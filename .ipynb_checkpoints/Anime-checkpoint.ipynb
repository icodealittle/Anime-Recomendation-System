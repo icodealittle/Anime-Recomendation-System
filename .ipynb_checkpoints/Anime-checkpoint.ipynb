{
 "cells": [
  {
   "cell_type": "markdown",
   "metadata": {},
   "source": [
    "# MyAnimeList Data"
   ]
  },
  {
   "cell_type": "markdown",
   "metadata": {},
   "source": [
    "**Group partners' names:**\n",
    "\n",
    "- Soumeng Chea\n",
    "- Fay Feghali\n",
    "- Erina Kitamura\n",
    "- Kristine Umeh"
   ]
  },
  {
   "cell_type": "markdown",
   "metadata": {},
   "source": [
    "## Task Complete:"
   ]
  },
  {
   "cell_type": "markdown",
   "metadata": {},
   "source": [
    "Below are the list that as a group have completed so far since the project proposal was due."
   ]
  },
  {
   "cell_type": "markdown",
   "metadata": {},
   "source": [
    "- Data pre-processing: Completed\n",
    "- Linear Regression: Completed\n",
    "- K-nearest neighbors: Completed\n",
    "- Squares and Cosine Similarity w/ KNN: Almost complete\n",
    "- K-Mean Cluster w/ PCs: Almost Complete"
   ]
  },
  {
   "cell_type": "markdown",
   "metadata": {},
   "source": [
    "## To-Do List: From now until the 18th:"
   ]
  },
  {
   "cell_type": "markdown",
   "metadata": {},
   "source": [
    "- Apriori\n",
    "- Analyze Results\n",
    "- Work on PowerPoint\n",
    "- Prep for Video presentation\n",
    "- Project report writeup"
   ]
  },
  {
   "cell_type": "markdown",
   "metadata": {},
   "source": [
    "## **Below are the works that we have done so far**"
   ]
  },
  {
   "cell_type": "markdown",
   "metadata": {},
   "source": [
    "## Data Pre-Processing "
   ]
  },
  {
   "cell_type": "code",
   "execution_count": 1,
   "metadata": {},
   "outputs": [
    {
     "name": "stderr",
     "output_type": "stream",
     "text": [
      "/Library/Frameworks/Python.framework/Versions/3.8/lib/python3.8/site-packages/fuzzywuzzy/fuzz.py:11: UserWarning: Using slow pure-python SequenceMatcher. Install python-Levenshtein to remove this warning\n",
      "  warnings.warn('Using slow pure-python SequenceMatcher. Install python-Levenshtein to remove this warning')\n"
     ]
    }
   ],
   "source": [
    "import pandas as pd\n",
    "import numpy as np\n",
    "import matplotlib.pyplot as plt\n",
    "import ast\n",
    "from scipy.sparse import csr_matrix\n",
    "from sklearn.neighbors import NearestNeighbors\n",
    "from fuzzywuzzy import process\n",
    "from sklearn.model_selection import train_test_split\n",
    "from sklearn.linear_model import LinearRegression\n",
    "from sklearn.metrics import *\n",
    "from statistics import mean\n",
    "from sklearn.decomposition import PCA\n",
    "from sklearn.preprocessing import StandardScaler"
   ]
  },
  {
   "cell_type": "code",
   "execution_count": 2,
   "metadata": {},
   "outputs": [],
   "source": [
    "data = './datasets/anime_data.csv'"
   ]
  },
  {
   "cell_type": "code",
   "execution_count": 3,
   "metadata": {},
   "outputs": [],
   "source": [
    "df = pd.read_csv(data)"
   ]
  },
  {
   "cell_type": "code",
   "execution_count": 4,
   "metadata": {},
   "outputs": [
    {
     "data": {
      "text/html": [
       "<div>\n",
       "<style scoped>\n",
       "    .dataframe tbody tr th:only-of-type {\n",
       "        vertical-align: middle;\n",
       "    }\n",
       "\n",
       "    .dataframe tbody tr th {\n",
       "        vertical-align: top;\n",
       "    }\n",
       "\n",
       "    .dataframe thead th {\n",
       "        text-align: right;\n",
       "    }\n",
       "</style>\n",
       "<table border=\"1\" class=\"dataframe\">\n",
       "  <thead>\n",
       "    <tr style=\"text-align: right;\">\n",
       "      <th></th>\n",
       "      <th>mal_id</th>\n",
       "      <th>aired_from</th>\n",
       "      <th>aired_to</th>\n",
       "      <th>duration</th>\n",
       "      <th>episodes</th>\n",
       "      <th>genres</th>\n",
       "      <th>popularity</th>\n",
       "      <th>premiered</th>\n",
       "      <th>rank</th>\n",
       "      <th>rating</th>\n",
       "      <th>score</th>\n",
       "      <th>scored_by</th>\n",
       "      <th>source</th>\n",
       "      <th>status</th>\n",
       "      <th>studios</th>\n",
       "      <th>synopsis</th>\n",
       "      <th>title</th>\n",
       "      <th>title_english</th>\n",
       "      <th>type</th>\n",
       "    </tr>\n",
       "  </thead>\n",
       "  <tbody>\n",
       "    <tr>\n",
       "      <th>0</th>\n",
       "      <td>1</td>\n",
       "      <td>1998-04-03T00:00:00+00:00</td>\n",
       "      <td>1999-04-24T00:00:00+00:00</td>\n",
       "      <td>24 min per ep</td>\n",
       "      <td>26</td>\n",
       "      <td>['Action', 'Adventure', 'Comedy', 'Drama', 'Sc...</td>\n",
       "      <td>38</td>\n",
       "      <td>Spring 1998</td>\n",
       "      <td>27.0</td>\n",
       "      <td>R - 17+ (violence &amp; profanity)</td>\n",
       "      <td>8.79</td>\n",
       "      <td>544987</td>\n",
       "      <td>Original</td>\n",
       "      <td>Finished Airing</td>\n",
       "      <td>[{'mal_id': 14, 'name': 'Sunrise'}]</td>\n",
       "      <td>In the year 2071, humanity has colonized sever...</td>\n",
       "      <td>Cowboy Bebop</td>\n",
       "      <td>Cowboy Bebop</td>\n",
       "      <td>TV</td>\n",
       "    </tr>\n",
       "    <tr>\n",
       "      <th>1</th>\n",
       "      <td>100</td>\n",
       "      <td>2001-04-04T00:00:00+00:00</td>\n",
       "      <td>2001-06-27T00:00:00+00:00</td>\n",
       "      <td>23 min per ep</td>\n",
       "      <td>13</td>\n",
       "      <td>['Comedy', 'Drama', 'Fantasy', 'Magic', 'Roman...</td>\n",
       "      <td>2075</td>\n",
       "      <td>Spring 2001</td>\n",
       "      <td>2703.0</td>\n",
       "      <td>PG-13 - Teens 13 or older</td>\n",
       "      <td>7.21</td>\n",
       "      <td>23787</td>\n",
       "      <td>Manga</td>\n",
       "      <td>Finished Airing</td>\n",
       "      <td>[{'mal_id': 34, 'name': 'Hal Film Maker'}]</td>\n",
       "      <td>Due to her father's remarriage, robust 16-year...</td>\n",
       "      <td>Shin Shirayuki-hime Densetsu Prétear</td>\n",
       "      <td>Prétear: The New Legend of Snow White</td>\n",
       "      <td>TV</td>\n",
       "    </tr>\n",
       "    <tr>\n",
       "      <th>2</th>\n",
       "      <td>1000</td>\n",
       "      <td>1978-03-14T00:00:00+00:00</td>\n",
       "      <td>1979-02-13T00:00:00+00:00</td>\n",
       "      <td>25 min per ep</td>\n",
       "      <td>42</td>\n",
       "      <td>['Action', 'Sci-Fi', 'Adventure', 'Space', 'Dr...</td>\n",
       "      <td>2980</td>\n",
       "      <td>Spring 1978</td>\n",
       "      <td>1008.0</td>\n",
       "      <td>PG-13 - Teens 13 or older</td>\n",
       "      <td>7.71</td>\n",
       "      <td>7059</td>\n",
       "      <td>Manga</td>\n",
       "      <td>Finished Airing</td>\n",
       "      <td>[{'mal_id': 18, 'name': 'Toei Animation'}]</td>\n",
       "      <td>It is 2977 AD and mankind has become stagnant....</td>\n",
       "      <td>Uchuu Kaizoku Captain Herlock</td>\n",
       "      <td>Space Pirate Captain Harlock</td>\n",
       "      <td>TV</td>\n",
       "    </tr>\n",
       "    <tr>\n",
       "      <th>3</th>\n",
       "      <td>10003</td>\n",
       "      <td>2008-01-01T00:00:00+00:00</td>\n",
       "      <td>NaN</td>\n",
       "      <td>2 min per ep</td>\n",
       "      <td>15</td>\n",
       "      <td>['Comedy', 'Dementia', 'Horror', 'Seinen']</td>\n",
       "      <td>6848</td>\n",
       "      <td>NaN</td>\n",
       "      <td>10146.0</td>\n",
       "      <td>R+ - Mild Nudity</td>\n",
       "      <td>5.05</td>\n",
       "      <td>1181</td>\n",
       "      <td>Original</td>\n",
       "      <td>Finished Airing</td>\n",
       "      <td>[]</td>\n",
       "      <td>In these jokey short films, many of them crude...</td>\n",
       "      <td>Kago Shintarou Anime Sakuhin Shuu</td>\n",
       "      <td>NaN</td>\n",
       "      <td>OVA</td>\n",
       "    </tr>\n",
       "    <tr>\n",
       "      <th>4</th>\n",
       "      <td>10005</td>\n",
       "      <td>2007-03-31T00:00:00+00:00</td>\n",
       "      <td>NaN</td>\n",
       "      <td>1 hr 35 min</td>\n",
       "      <td>1</td>\n",
       "      <td>['Action', 'Adventure', 'Mecha', 'Sci-Fi']</td>\n",
       "      <td>10765</td>\n",
       "      <td>NaN</td>\n",
       "      <td>6121.0</td>\n",
       "      <td>G - All Ages</td>\n",
       "      <td>6.43</td>\n",
       "      <td>228</td>\n",
       "      <td>Unknown</td>\n",
       "      <td>Finished Airing</td>\n",
       "      <td>[{'mal_id': 455, 'name': 'Palm Studio'}]</td>\n",
       "      <td>This theatrical version based on the manga by ...</td>\n",
       "      <td>Tetsujin 28-gou: Hakuchuu no Zangetsu</td>\n",
       "      <td>NaN</td>\n",
       "      <td>Movie</td>\n",
       "    </tr>\n",
       "  </tbody>\n",
       "</table>\n",
       "</div>"
      ],
      "text/plain": [
       "   mal_id                 aired_from                   aired_to  \\\n",
       "0       1  1998-04-03T00:00:00+00:00  1999-04-24T00:00:00+00:00   \n",
       "1     100  2001-04-04T00:00:00+00:00  2001-06-27T00:00:00+00:00   \n",
       "2    1000  1978-03-14T00:00:00+00:00  1979-02-13T00:00:00+00:00   \n",
       "3   10003  2008-01-01T00:00:00+00:00                        NaN   \n",
       "4   10005  2007-03-31T00:00:00+00:00                        NaN   \n",
       "\n",
       "        duration  episodes                                             genres  \\\n",
       "0  24 min per ep        26  ['Action', 'Adventure', 'Comedy', 'Drama', 'Sc...   \n",
       "1  23 min per ep        13  ['Comedy', 'Drama', 'Fantasy', 'Magic', 'Roman...   \n",
       "2  25 min per ep        42  ['Action', 'Sci-Fi', 'Adventure', 'Space', 'Dr...   \n",
       "3   2 min per ep        15         ['Comedy', 'Dementia', 'Horror', 'Seinen']   \n",
       "4    1 hr 35 min         1         ['Action', 'Adventure', 'Mecha', 'Sci-Fi']   \n",
       "\n",
       "   popularity    premiered     rank                          rating  score  \\\n",
       "0          38  Spring 1998     27.0  R - 17+ (violence & profanity)   8.79   \n",
       "1        2075  Spring 2001   2703.0       PG-13 - Teens 13 or older   7.21   \n",
       "2        2980  Spring 1978   1008.0       PG-13 - Teens 13 or older   7.71   \n",
       "3        6848          NaN  10146.0                R+ - Mild Nudity   5.05   \n",
       "4       10765          NaN   6121.0                    G - All Ages   6.43   \n",
       "\n",
       "   scored_by    source           status  \\\n",
       "0     544987  Original  Finished Airing   \n",
       "1      23787     Manga  Finished Airing   \n",
       "2       7059     Manga  Finished Airing   \n",
       "3       1181  Original  Finished Airing   \n",
       "4        228   Unknown  Finished Airing   \n",
       "\n",
       "                                      studios  \\\n",
       "0         [{'mal_id': 14, 'name': 'Sunrise'}]   \n",
       "1  [{'mal_id': 34, 'name': 'Hal Film Maker'}]   \n",
       "2  [{'mal_id': 18, 'name': 'Toei Animation'}]   \n",
       "3                                          []   \n",
       "4    [{'mal_id': 455, 'name': 'Palm Studio'}]   \n",
       "\n",
       "                                            synopsis  \\\n",
       "0  In the year 2071, humanity has colonized sever...   \n",
       "1  Due to her father's remarriage, robust 16-year...   \n",
       "2  It is 2977 AD and mankind has become stagnant....   \n",
       "3  In these jokey short films, many of them crude...   \n",
       "4  This theatrical version based on the manga by ...   \n",
       "\n",
       "                                   title  \\\n",
       "0                           Cowboy Bebop   \n",
       "1   Shin Shirayuki-hime Densetsu Prétear   \n",
       "2          Uchuu Kaizoku Captain Herlock   \n",
       "3      Kago Shintarou Anime Sakuhin Shuu   \n",
       "4  Tetsujin 28-gou: Hakuchuu no Zangetsu   \n",
       "\n",
       "                           title_english   type  \n",
       "0                           Cowboy Bebop     TV  \n",
       "1  Prétear: The New Legend of Snow White     TV  \n",
       "2           Space Pirate Captain Harlock     TV  \n",
       "3                                    NaN    OVA  \n",
       "4                                    NaN  Movie  "
      ]
     },
     "execution_count": 4,
     "metadata": {},
     "output_type": "execute_result"
    }
   ],
   "source": [
    "df.head(5)"
   ]
  },
  {
   "cell_type": "markdown",
   "metadata": {},
   "source": [
    "### Extracting studio sequences into a new columns"
   ]
  },
  {
   "cell_type": "markdown",
   "metadata": {},
   "source": [
    "Source: https://stackoverflow.com/questions/71432733/pandas-extracting-a-phrase-in-a-dict-column?noredirect=1#comment126259925_71432733"
   ]
  },
  {
   "cell_type": "markdown",
   "metadata": {},
   "source": [
    "In case of the items in the column is just string, convert the column into actual object"
   ]
  },
  {
   "cell_type": "code",
   "execution_count": 5,
   "metadata": {},
   "outputs": [],
   "source": [
    "df['studios'] = df['studios'].apply(ast.literal_eval)"
   ]
  },
  {
   "cell_type": "markdown",
   "metadata": {},
   "source": [
    "Implementing .str to access indexes/keys from the lists/dicts of items in a column, and use a combination of pipe and where to fallback to the original values where the result from .str to returns NaN"
   ]
  },
  {
   "cell_type": "code",
   "execution_count": 6,
   "metadata": {},
   "outputs": [
    {
     "data": {
      "text/html": [
       "<div>\n",
       "<style scoped>\n",
       "    .dataframe tbody tr th:only-of-type {\n",
       "        vertical-align: middle;\n",
       "    }\n",
       "\n",
       "    .dataframe tbody tr th {\n",
       "        vertical-align: top;\n",
       "    }\n",
       "\n",
       "    .dataframe thead th {\n",
       "        text-align: right;\n",
       "    }\n",
       "</style>\n",
       "<table border=\"1\" class=\"dataframe\">\n",
       "  <thead>\n",
       "    <tr style=\"text-align: right;\">\n",
       "      <th></th>\n",
       "      <th>mal_id</th>\n",
       "      <th>aired_from</th>\n",
       "      <th>aired_to</th>\n",
       "      <th>duration</th>\n",
       "      <th>episodes</th>\n",
       "      <th>genres</th>\n",
       "      <th>popularity</th>\n",
       "      <th>premiered</th>\n",
       "      <th>rank</th>\n",
       "      <th>rating</th>\n",
       "      <th>score</th>\n",
       "      <th>scored_by</th>\n",
       "      <th>source</th>\n",
       "      <th>status</th>\n",
       "      <th>studios</th>\n",
       "      <th>synopsis</th>\n",
       "      <th>title</th>\n",
       "      <th>title_english</th>\n",
       "      <th>type</th>\n",
       "    </tr>\n",
       "  </thead>\n",
       "  <tbody>\n",
       "    <tr>\n",
       "      <th>0</th>\n",
       "      <td>1</td>\n",
       "      <td>1998-04-03T00:00:00+00:00</td>\n",
       "      <td>1999-04-24T00:00:00+00:00</td>\n",
       "      <td>24 min per ep</td>\n",
       "      <td>26</td>\n",
       "      <td>['Action', 'Adventure', 'Comedy', 'Drama', 'Sc...</td>\n",
       "      <td>38</td>\n",
       "      <td>Spring 1998</td>\n",
       "      <td>27.0</td>\n",
       "      <td>R - 17+ (violence &amp; profanity)</td>\n",
       "      <td>8.79</td>\n",
       "      <td>544987</td>\n",
       "      <td>Original</td>\n",
       "      <td>Finished Airing</td>\n",
       "      <td>Sunrise</td>\n",
       "      <td>In the year 2071, humanity has colonized sever...</td>\n",
       "      <td>Cowboy Bebop</td>\n",
       "      <td>Cowboy Bebop</td>\n",
       "      <td>TV</td>\n",
       "    </tr>\n",
       "    <tr>\n",
       "      <th>1</th>\n",
       "      <td>100</td>\n",
       "      <td>2001-04-04T00:00:00+00:00</td>\n",
       "      <td>2001-06-27T00:00:00+00:00</td>\n",
       "      <td>23 min per ep</td>\n",
       "      <td>13</td>\n",
       "      <td>['Comedy', 'Drama', 'Fantasy', 'Magic', 'Roman...</td>\n",
       "      <td>2075</td>\n",
       "      <td>Spring 2001</td>\n",
       "      <td>2703.0</td>\n",
       "      <td>PG-13 - Teens 13 or older</td>\n",
       "      <td>7.21</td>\n",
       "      <td>23787</td>\n",
       "      <td>Manga</td>\n",
       "      <td>Finished Airing</td>\n",
       "      <td>Hal Film Maker</td>\n",
       "      <td>Due to her father's remarriage, robust 16-year...</td>\n",
       "      <td>Shin Shirayuki-hime Densetsu Prétear</td>\n",
       "      <td>Prétear: The New Legend of Snow White</td>\n",
       "      <td>TV</td>\n",
       "    </tr>\n",
       "    <tr>\n",
       "      <th>2</th>\n",
       "      <td>1000</td>\n",
       "      <td>1978-03-14T00:00:00+00:00</td>\n",
       "      <td>1979-02-13T00:00:00+00:00</td>\n",
       "      <td>25 min per ep</td>\n",
       "      <td>42</td>\n",
       "      <td>['Action', 'Sci-Fi', 'Adventure', 'Space', 'Dr...</td>\n",
       "      <td>2980</td>\n",
       "      <td>Spring 1978</td>\n",
       "      <td>1008.0</td>\n",
       "      <td>PG-13 - Teens 13 or older</td>\n",
       "      <td>7.71</td>\n",
       "      <td>7059</td>\n",
       "      <td>Manga</td>\n",
       "      <td>Finished Airing</td>\n",
       "      <td>Toei Animation</td>\n",
       "      <td>It is 2977 AD and mankind has become stagnant....</td>\n",
       "      <td>Uchuu Kaizoku Captain Herlock</td>\n",
       "      <td>Space Pirate Captain Harlock</td>\n",
       "      <td>TV</td>\n",
       "    </tr>\n",
       "    <tr>\n",
       "      <th>3</th>\n",
       "      <td>10003</td>\n",
       "      <td>2008-01-01T00:00:00+00:00</td>\n",
       "      <td>NaN</td>\n",
       "      <td>2 min per ep</td>\n",
       "      <td>15</td>\n",
       "      <td>['Comedy', 'Dementia', 'Horror', 'Seinen']</td>\n",
       "      <td>6848</td>\n",
       "      <td>NaN</td>\n",
       "      <td>10146.0</td>\n",
       "      <td>R+ - Mild Nudity</td>\n",
       "      <td>5.05</td>\n",
       "      <td>1181</td>\n",
       "      <td>Original</td>\n",
       "      <td>Finished Airing</td>\n",
       "      <td>[]</td>\n",
       "      <td>In these jokey short films, many of them crude...</td>\n",
       "      <td>Kago Shintarou Anime Sakuhin Shuu</td>\n",
       "      <td>NaN</td>\n",
       "      <td>OVA</td>\n",
       "    </tr>\n",
       "    <tr>\n",
       "      <th>4</th>\n",
       "      <td>10005</td>\n",
       "      <td>2007-03-31T00:00:00+00:00</td>\n",
       "      <td>NaN</td>\n",
       "      <td>1 hr 35 min</td>\n",
       "      <td>1</td>\n",
       "      <td>['Action', 'Adventure', 'Mecha', 'Sci-Fi']</td>\n",
       "      <td>10765</td>\n",
       "      <td>NaN</td>\n",
       "      <td>6121.0</td>\n",
       "      <td>G - All Ages</td>\n",
       "      <td>6.43</td>\n",
       "      <td>228</td>\n",
       "      <td>Unknown</td>\n",
       "      <td>Finished Airing</td>\n",
       "      <td>Palm Studio</td>\n",
       "      <td>This theatrical version based on the manga by ...</td>\n",
       "      <td>Tetsujin 28-gou: Hakuchuu no Zangetsu</td>\n",
       "      <td>NaN</td>\n",
       "      <td>Movie</td>\n",
       "    </tr>\n",
       "  </tbody>\n",
       "</table>\n",
       "</div>"
      ],
      "text/plain": [
       "   mal_id                 aired_from                   aired_to  \\\n",
       "0       1  1998-04-03T00:00:00+00:00  1999-04-24T00:00:00+00:00   \n",
       "1     100  2001-04-04T00:00:00+00:00  2001-06-27T00:00:00+00:00   \n",
       "2    1000  1978-03-14T00:00:00+00:00  1979-02-13T00:00:00+00:00   \n",
       "3   10003  2008-01-01T00:00:00+00:00                        NaN   \n",
       "4   10005  2007-03-31T00:00:00+00:00                        NaN   \n",
       "\n",
       "        duration  episodes                                             genres  \\\n",
       "0  24 min per ep        26  ['Action', 'Adventure', 'Comedy', 'Drama', 'Sc...   \n",
       "1  23 min per ep        13  ['Comedy', 'Drama', 'Fantasy', 'Magic', 'Roman...   \n",
       "2  25 min per ep        42  ['Action', 'Sci-Fi', 'Adventure', 'Space', 'Dr...   \n",
       "3   2 min per ep        15         ['Comedy', 'Dementia', 'Horror', 'Seinen']   \n",
       "4    1 hr 35 min         1         ['Action', 'Adventure', 'Mecha', 'Sci-Fi']   \n",
       "\n",
       "   popularity    premiered     rank                          rating  score  \\\n",
       "0          38  Spring 1998     27.0  R - 17+ (violence & profanity)   8.79   \n",
       "1        2075  Spring 2001   2703.0       PG-13 - Teens 13 or older   7.21   \n",
       "2        2980  Spring 1978   1008.0       PG-13 - Teens 13 or older   7.71   \n",
       "3        6848          NaN  10146.0                R+ - Mild Nudity   5.05   \n",
       "4       10765          NaN   6121.0                    G - All Ages   6.43   \n",
       "\n",
       "   scored_by    source           status         studios  \\\n",
       "0     544987  Original  Finished Airing         Sunrise   \n",
       "1      23787     Manga  Finished Airing  Hal Film Maker   \n",
       "2       7059     Manga  Finished Airing  Toei Animation   \n",
       "3       1181  Original  Finished Airing              []   \n",
       "4        228   Unknown  Finished Airing     Palm Studio   \n",
       "\n",
       "                                            synopsis  \\\n",
       "0  In the year 2071, humanity has colonized sever...   \n",
       "1  Due to her father's remarriage, robust 16-year...   \n",
       "2  It is 2977 AD and mankind has become stagnant....   \n",
       "3  In these jokey short films, many of them crude...   \n",
       "4  This theatrical version based on the manga by ...   \n",
       "\n",
       "                                   title  \\\n",
       "0                           Cowboy Bebop   \n",
       "1   Shin Shirayuki-hime Densetsu Prétear   \n",
       "2          Uchuu Kaizoku Captain Herlock   \n",
       "3      Kago Shintarou Anime Sakuhin Shuu   \n",
       "4  Tetsujin 28-gou: Hakuchuu no Zangetsu   \n",
       "\n",
       "                           title_english   type  \n",
       "0                           Cowboy Bebop     TV  \n",
       "1  Prétear: The New Legend of Snow White     TV  \n",
       "2           Space Pirate Captain Harlock     TV  \n",
       "3                                    NaN    OVA  \n",
       "4                                    NaN  Movie  "
      ]
     },
     "execution_count": 6,
     "metadata": {},
     "output_type": "execute_result"
    }
   ],
   "source": [
    "df['studios'] = df['studios'].str[0].str['name'].pipe(lambda x: x.where(x.notna(), df['studios']))\n",
    "df.head(5)"
   ]
  },
  {
   "cell_type": "markdown",
   "metadata": {},
   "source": [
    "### Extract genre list into an individual row"
   ]
  },
  {
   "cell_type": "code",
   "execution_count": 7,
   "metadata": {},
   "outputs": [
    {
     "data": {
      "text/plain": [
       "0    ['Action', 'Adventure', 'Comedy', 'Drama', 'Sc...\n",
       "1    ['Comedy', 'Drama', 'Fantasy', 'Magic', 'Roman...\n",
       "2    ['Action', 'Sci-Fi', 'Adventure', 'Space', 'Dr...\n",
       "3           ['Comedy', 'Dementia', 'Horror', 'Seinen']\n",
       "4           ['Action', 'Adventure', 'Mecha', 'Sci-Fi']\n",
       "Name: genres, dtype: object"
      ]
     },
     "execution_count": 7,
     "metadata": {},
     "output_type": "execute_result"
    }
   ],
   "source": [
    "df['genres'].head(5)"
   ]
  },
  {
   "cell_type": "markdown",
   "metadata": {},
   "source": [
    "**Convert the values in the genres column to actual list, because it might just look like a list but actually be a string.**"
   ]
  },
  {
   "cell_type": "code",
   "execution_count": 8,
   "metadata": {},
   "outputs": [],
   "source": [
    "df['genres'] = df['genres'].apply(ast.literal_eval)"
   ]
  },
  {
   "cell_type": "markdown",
   "metadata": {},
   "source": [
    "**Implementing .explode() for genres column**"
   ]
  },
  {
   "cell_type": "code",
   "execution_count": 9,
   "metadata": {},
   "outputs": [],
   "source": [
    "data = df.explode('genres').reset_index(drop = True)"
   ]
  },
  {
   "cell_type": "code",
   "execution_count": 10,
   "metadata": {},
   "outputs": [
    {
     "data": {
      "text/html": [
       "<div>\n",
       "<style scoped>\n",
       "    .dataframe tbody tr th:only-of-type {\n",
       "        vertical-align: middle;\n",
       "    }\n",
       "\n",
       "    .dataframe tbody tr th {\n",
       "        vertical-align: top;\n",
       "    }\n",
       "\n",
       "    .dataframe thead th {\n",
       "        text-align: right;\n",
       "    }\n",
       "</style>\n",
       "<table border=\"1\" class=\"dataframe\">\n",
       "  <thead>\n",
       "    <tr style=\"text-align: right;\">\n",
       "      <th></th>\n",
       "      <th>mal_id</th>\n",
       "      <th>aired_from</th>\n",
       "      <th>aired_to</th>\n",
       "      <th>duration</th>\n",
       "      <th>episodes</th>\n",
       "      <th>genres</th>\n",
       "      <th>popularity</th>\n",
       "      <th>premiered</th>\n",
       "      <th>rank</th>\n",
       "      <th>rating</th>\n",
       "      <th>score</th>\n",
       "      <th>scored_by</th>\n",
       "      <th>source</th>\n",
       "      <th>status</th>\n",
       "      <th>studios</th>\n",
       "      <th>synopsis</th>\n",
       "      <th>title</th>\n",
       "      <th>title_english</th>\n",
       "      <th>type</th>\n",
       "    </tr>\n",
       "  </thead>\n",
       "  <tbody>\n",
       "    <tr>\n",
       "      <th>0</th>\n",
       "      <td>1</td>\n",
       "      <td>1998-04-03T00:00:00+00:00</td>\n",
       "      <td>1999-04-24T00:00:00+00:00</td>\n",
       "      <td>24 min per ep</td>\n",
       "      <td>26</td>\n",
       "      <td>Action</td>\n",
       "      <td>38</td>\n",
       "      <td>Spring 1998</td>\n",
       "      <td>27.0</td>\n",
       "      <td>R - 17+ (violence &amp; profanity)</td>\n",
       "      <td>8.79</td>\n",
       "      <td>544987</td>\n",
       "      <td>Original</td>\n",
       "      <td>Finished Airing</td>\n",
       "      <td>Sunrise</td>\n",
       "      <td>In the year 2071, humanity has colonized sever...</td>\n",
       "      <td>Cowboy Bebop</td>\n",
       "      <td>Cowboy Bebop</td>\n",
       "      <td>TV</td>\n",
       "    </tr>\n",
       "    <tr>\n",
       "      <th>1</th>\n",
       "      <td>1</td>\n",
       "      <td>1998-04-03T00:00:00+00:00</td>\n",
       "      <td>1999-04-24T00:00:00+00:00</td>\n",
       "      <td>24 min per ep</td>\n",
       "      <td>26</td>\n",
       "      <td>Adventure</td>\n",
       "      <td>38</td>\n",
       "      <td>Spring 1998</td>\n",
       "      <td>27.0</td>\n",
       "      <td>R - 17+ (violence &amp; profanity)</td>\n",
       "      <td>8.79</td>\n",
       "      <td>544987</td>\n",
       "      <td>Original</td>\n",
       "      <td>Finished Airing</td>\n",
       "      <td>Sunrise</td>\n",
       "      <td>In the year 2071, humanity has colonized sever...</td>\n",
       "      <td>Cowboy Bebop</td>\n",
       "      <td>Cowboy Bebop</td>\n",
       "      <td>TV</td>\n",
       "    </tr>\n",
       "    <tr>\n",
       "      <th>2</th>\n",
       "      <td>1</td>\n",
       "      <td>1998-04-03T00:00:00+00:00</td>\n",
       "      <td>1999-04-24T00:00:00+00:00</td>\n",
       "      <td>24 min per ep</td>\n",
       "      <td>26</td>\n",
       "      <td>Comedy</td>\n",
       "      <td>38</td>\n",
       "      <td>Spring 1998</td>\n",
       "      <td>27.0</td>\n",
       "      <td>R - 17+ (violence &amp; profanity)</td>\n",
       "      <td>8.79</td>\n",
       "      <td>544987</td>\n",
       "      <td>Original</td>\n",
       "      <td>Finished Airing</td>\n",
       "      <td>Sunrise</td>\n",
       "      <td>In the year 2071, humanity has colonized sever...</td>\n",
       "      <td>Cowboy Bebop</td>\n",
       "      <td>Cowboy Bebop</td>\n",
       "      <td>TV</td>\n",
       "    </tr>\n",
       "    <tr>\n",
       "      <th>3</th>\n",
       "      <td>1</td>\n",
       "      <td>1998-04-03T00:00:00+00:00</td>\n",
       "      <td>1999-04-24T00:00:00+00:00</td>\n",
       "      <td>24 min per ep</td>\n",
       "      <td>26</td>\n",
       "      <td>Drama</td>\n",
       "      <td>38</td>\n",
       "      <td>Spring 1998</td>\n",
       "      <td>27.0</td>\n",
       "      <td>R - 17+ (violence &amp; profanity)</td>\n",
       "      <td>8.79</td>\n",
       "      <td>544987</td>\n",
       "      <td>Original</td>\n",
       "      <td>Finished Airing</td>\n",
       "      <td>Sunrise</td>\n",
       "      <td>In the year 2071, humanity has colonized sever...</td>\n",
       "      <td>Cowboy Bebop</td>\n",
       "      <td>Cowboy Bebop</td>\n",
       "      <td>TV</td>\n",
       "    </tr>\n",
       "    <tr>\n",
       "      <th>4</th>\n",
       "      <td>1</td>\n",
       "      <td>1998-04-03T00:00:00+00:00</td>\n",
       "      <td>1999-04-24T00:00:00+00:00</td>\n",
       "      <td>24 min per ep</td>\n",
       "      <td>26</td>\n",
       "      <td>Sci-Fi</td>\n",
       "      <td>38</td>\n",
       "      <td>Spring 1998</td>\n",
       "      <td>27.0</td>\n",
       "      <td>R - 17+ (violence &amp; profanity)</td>\n",
       "      <td>8.79</td>\n",
       "      <td>544987</td>\n",
       "      <td>Original</td>\n",
       "      <td>Finished Airing</td>\n",
       "      <td>Sunrise</td>\n",
       "      <td>In the year 2071, humanity has colonized sever...</td>\n",
       "      <td>Cowboy Bebop</td>\n",
       "      <td>Cowboy Bebop</td>\n",
       "      <td>TV</td>\n",
       "    </tr>\n",
       "  </tbody>\n",
       "</table>\n",
       "</div>"
      ],
      "text/plain": [
       "   mal_id                 aired_from                   aired_to  \\\n",
       "0       1  1998-04-03T00:00:00+00:00  1999-04-24T00:00:00+00:00   \n",
       "1       1  1998-04-03T00:00:00+00:00  1999-04-24T00:00:00+00:00   \n",
       "2       1  1998-04-03T00:00:00+00:00  1999-04-24T00:00:00+00:00   \n",
       "3       1  1998-04-03T00:00:00+00:00  1999-04-24T00:00:00+00:00   \n",
       "4       1  1998-04-03T00:00:00+00:00  1999-04-24T00:00:00+00:00   \n",
       "\n",
       "        duration  episodes     genres  popularity    premiered  rank  \\\n",
       "0  24 min per ep        26     Action          38  Spring 1998  27.0   \n",
       "1  24 min per ep        26  Adventure          38  Spring 1998  27.0   \n",
       "2  24 min per ep        26     Comedy          38  Spring 1998  27.0   \n",
       "3  24 min per ep        26      Drama          38  Spring 1998  27.0   \n",
       "4  24 min per ep        26     Sci-Fi          38  Spring 1998  27.0   \n",
       "\n",
       "                           rating  score  scored_by    source  \\\n",
       "0  R - 17+ (violence & profanity)   8.79     544987  Original   \n",
       "1  R - 17+ (violence & profanity)   8.79     544987  Original   \n",
       "2  R - 17+ (violence & profanity)   8.79     544987  Original   \n",
       "3  R - 17+ (violence & profanity)   8.79     544987  Original   \n",
       "4  R - 17+ (violence & profanity)   8.79     544987  Original   \n",
       "\n",
       "            status  studios  \\\n",
       "0  Finished Airing  Sunrise   \n",
       "1  Finished Airing  Sunrise   \n",
       "2  Finished Airing  Sunrise   \n",
       "3  Finished Airing  Sunrise   \n",
       "4  Finished Airing  Sunrise   \n",
       "\n",
       "                                            synopsis         title  \\\n",
       "0  In the year 2071, humanity has colonized sever...  Cowboy Bebop   \n",
       "1  In the year 2071, humanity has colonized sever...  Cowboy Bebop   \n",
       "2  In the year 2071, humanity has colonized sever...  Cowboy Bebop   \n",
       "3  In the year 2071, humanity has colonized sever...  Cowboy Bebop   \n",
       "4  In the year 2071, humanity has colonized sever...  Cowboy Bebop   \n",
       "\n",
       "  title_english type  \n",
       "0  Cowboy Bebop   TV  \n",
       "1  Cowboy Bebop   TV  \n",
       "2  Cowboy Bebop   TV  \n",
       "3  Cowboy Bebop   TV  \n",
       "4  Cowboy Bebop   TV  "
      ]
     },
     "execution_count": 10,
     "metadata": {},
     "output_type": "execute_result"
    }
   ],
   "source": [
    "data.head(5)"
   ]
  },
  {
   "cell_type": "markdown",
   "metadata": {},
   "source": [
    "### Data Information + Rows and Columns"
   ]
  },
  {
   "cell_type": "code",
   "execution_count": 11,
   "metadata": {},
   "outputs": [
    {
     "name": "stdout",
     "output_type": "stream",
     "text": [
      "<class 'pandas.core.frame.DataFrame'>\n",
      "RangeIndex: 35984 entries, 0 to 35983\n",
      "Data columns (total 19 columns):\n",
      " #   Column         Non-Null Count  Dtype  \n",
      "---  ------         --------------  -----  \n",
      " 0   mal_id         35984 non-null  int64  \n",
      " 1   aired_from     35977 non-null  object \n",
      " 2   aired_to       20657 non-null  object \n",
      " 3   duration       35984 non-null  object \n",
      " 4   episodes       35984 non-null  int64  \n",
      " 5   genres         35969 non-null  object \n",
      " 6   popularity     35984 non-null  int64  \n",
      " 7   premiered      13621 non-null  object \n",
      " 8   rank           33954 non-null  float64\n",
      " 9   rating         35984 non-null  object \n",
      " 10  score          35984 non-null  float64\n",
      " 11  scored_by      35984 non-null  int64  \n",
      " 12  source         35984 non-null  object \n",
      " 13  status         35984 non-null  object \n",
      " 14  studios        35984 non-null  object \n",
      " 15  synopsis       35465 non-null  object \n",
      " 16  title          35984 non-null  object \n",
      " 17  title_english  19120 non-null  object \n",
      " 18  type           35984 non-null  object \n",
      "dtypes: float64(2), int64(4), object(13)\n",
      "memory usage: 5.2+ MB\n"
     ]
    }
   ],
   "source": [
    "data.info()"
   ]
  },
  {
   "cell_type": "code",
   "execution_count": 12,
   "metadata": {},
   "outputs": [
    {
     "data": {
      "text/plain": [
       "(35984, 19)"
      ]
     },
     "execution_count": 12,
     "metadata": {},
     "output_type": "execute_result"
    }
   ],
   "source": [
    "data.shape"
   ]
  },
  {
   "cell_type": "markdown",
   "metadata": {},
   "source": [
    "### Looking for missing value within the dataset"
   ]
  },
  {
   "cell_type": "code",
   "execution_count": 13,
   "metadata": {},
   "outputs": [
    {
     "data": {
      "text/plain": [
       "mal_id               0\n",
       "aired_from           7\n",
       "aired_to         15327\n",
       "duration             0\n",
       "episodes             0\n",
       "genres              15\n",
       "popularity           0\n",
       "premiered        22363\n",
       "rank              2030\n",
       "rating               0\n",
       "score                0\n",
       "scored_by            0\n",
       "source               0\n",
       "status               0\n",
       "studios              0\n",
       "synopsis           519\n",
       "title                0\n",
       "title_english    16864\n",
       "type                 0\n",
       "dtype: int64"
      ]
     },
     "execution_count": 13,
     "metadata": {},
     "output_type": "execute_result"
    }
   ],
   "source": [
    "data.isnull().sum()"
   ]
  },
  {
   "cell_type": "markdown",
   "metadata": {},
   "source": [
    "### Extracting Season and Year from primier column to create two new columns"
   ]
  },
  {
   "cell_type": "code",
   "execution_count": 14,
   "metadata": {},
   "outputs": [],
   "source": [
    "data[['premiered_season', 'premiered_year']] = data['premiered'].str.split(expand = True)"
   ]
  },
  {
   "cell_type": "code",
   "execution_count": 15,
   "metadata": {},
   "outputs": [
    {
     "data": {
      "text/html": [
       "<div>\n",
       "<style scoped>\n",
       "    .dataframe tbody tr th:only-of-type {\n",
       "        vertical-align: middle;\n",
       "    }\n",
       "\n",
       "    .dataframe tbody tr th {\n",
       "        vertical-align: top;\n",
       "    }\n",
       "\n",
       "    .dataframe thead th {\n",
       "        text-align: right;\n",
       "    }\n",
       "</style>\n",
       "<table border=\"1\" class=\"dataframe\">\n",
       "  <thead>\n",
       "    <tr style=\"text-align: right;\">\n",
       "      <th></th>\n",
       "      <th>mal_id</th>\n",
       "      <th>aired_from</th>\n",
       "      <th>aired_to</th>\n",
       "      <th>duration</th>\n",
       "      <th>episodes</th>\n",
       "      <th>genres</th>\n",
       "      <th>popularity</th>\n",
       "      <th>premiered</th>\n",
       "      <th>rank</th>\n",
       "      <th>rating</th>\n",
       "      <th>...</th>\n",
       "      <th>scored_by</th>\n",
       "      <th>source</th>\n",
       "      <th>status</th>\n",
       "      <th>studios</th>\n",
       "      <th>synopsis</th>\n",
       "      <th>title</th>\n",
       "      <th>title_english</th>\n",
       "      <th>type</th>\n",
       "      <th>premiered_season</th>\n",
       "      <th>premiered_year</th>\n",
       "    </tr>\n",
       "  </thead>\n",
       "  <tbody>\n",
       "    <tr>\n",
       "      <th>0</th>\n",
       "      <td>1</td>\n",
       "      <td>1998-04-03T00:00:00+00:00</td>\n",
       "      <td>1999-04-24T00:00:00+00:00</td>\n",
       "      <td>24 min per ep</td>\n",
       "      <td>26</td>\n",
       "      <td>Action</td>\n",
       "      <td>38</td>\n",
       "      <td>Spring 1998</td>\n",
       "      <td>27.0</td>\n",
       "      <td>R - 17+ (violence &amp; profanity)</td>\n",
       "      <td>...</td>\n",
       "      <td>544987</td>\n",
       "      <td>Original</td>\n",
       "      <td>Finished Airing</td>\n",
       "      <td>Sunrise</td>\n",
       "      <td>In the year 2071, humanity has colonized sever...</td>\n",
       "      <td>Cowboy Bebop</td>\n",
       "      <td>Cowboy Bebop</td>\n",
       "      <td>TV</td>\n",
       "      <td>Spring</td>\n",
       "      <td>1998</td>\n",
       "    </tr>\n",
       "    <tr>\n",
       "      <th>1</th>\n",
       "      <td>1</td>\n",
       "      <td>1998-04-03T00:00:00+00:00</td>\n",
       "      <td>1999-04-24T00:00:00+00:00</td>\n",
       "      <td>24 min per ep</td>\n",
       "      <td>26</td>\n",
       "      <td>Adventure</td>\n",
       "      <td>38</td>\n",
       "      <td>Spring 1998</td>\n",
       "      <td>27.0</td>\n",
       "      <td>R - 17+ (violence &amp; profanity)</td>\n",
       "      <td>...</td>\n",
       "      <td>544987</td>\n",
       "      <td>Original</td>\n",
       "      <td>Finished Airing</td>\n",
       "      <td>Sunrise</td>\n",
       "      <td>In the year 2071, humanity has colonized sever...</td>\n",
       "      <td>Cowboy Bebop</td>\n",
       "      <td>Cowboy Bebop</td>\n",
       "      <td>TV</td>\n",
       "      <td>Spring</td>\n",
       "      <td>1998</td>\n",
       "    </tr>\n",
       "    <tr>\n",
       "      <th>2</th>\n",
       "      <td>1</td>\n",
       "      <td>1998-04-03T00:00:00+00:00</td>\n",
       "      <td>1999-04-24T00:00:00+00:00</td>\n",
       "      <td>24 min per ep</td>\n",
       "      <td>26</td>\n",
       "      <td>Comedy</td>\n",
       "      <td>38</td>\n",
       "      <td>Spring 1998</td>\n",
       "      <td>27.0</td>\n",
       "      <td>R - 17+ (violence &amp; profanity)</td>\n",
       "      <td>...</td>\n",
       "      <td>544987</td>\n",
       "      <td>Original</td>\n",
       "      <td>Finished Airing</td>\n",
       "      <td>Sunrise</td>\n",
       "      <td>In the year 2071, humanity has colonized sever...</td>\n",
       "      <td>Cowboy Bebop</td>\n",
       "      <td>Cowboy Bebop</td>\n",
       "      <td>TV</td>\n",
       "      <td>Spring</td>\n",
       "      <td>1998</td>\n",
       "    </tr>\n",
       "    <tr>\n",
       "      <th>3</th>\n",
       "      <td>1</td>\n",
       "      <td>1998-04-03T00:00:00+00:00</td>\n",
       "      <td>1999-04-24T00:00:00+00:00</td>\n",
       "      <td>24 min per ep</td>\n",
       "      <td>26</td>\n",
       "      <td>Drama</td>\n",
       "      <td>38</td>\n",
       "      <td>Spring 1998</td>\n",
       "      <td>27.0</td>\n",
       "      <td>R - 17+ (violence &amp; profanity)</td>\n",
       "      <td>...</td>\n",
       "      <td>544987</td>\n",
       "      <td>Original</td>\n",
       "      <td>Finished Airing</td>\n",
       "      <td>Sunrise</td>\n",
       "      <td>In the year 2071, humanity has colonized sever...</td>\n",
       "      <td>Cowboy Bebop</td>\n",
       "      <td>Cowboy Bebop</td>\n",
       "      <td>TV</td>\n",
       "      <td>Spring</td>\n",
       "      <td>1998</td>\n",
       "    </tr>\n",
       "    <tr>\n",
       "      <th>4</th>\n",
       "      <td>1</td>\n",
       "      <td>1998-04-03T00:00:00+00:00</td>\n",
       "      <td>1999-04-24T00:00:00+00:00</td>\n",
       "      <td>24 min per ep</td>\n",
       "      <td>26</td>\n",
       "      <td>Sci-Fi</td>\n",
       "      <td>38</td>\n",
       "      <td>Spring 1998</td>\n",
       "      <td>27.0</td>\n",
       "      <td>R - 17+ (violence &amp; profanity)</td>\n",
       "      <td>...</td>\n",
       "      <td>544987</td>\n",
       "      <td>Original</td>\n",
       "      <td>Finished Airing</td>\n",
       "      <td>Sunrise</td>\n",
       "      <td>In the year 2071, humanity has colonized sever...</td>\n",
       "      <td>Cowboy Bebop</td>\n",
       "      <td>Cowboy Bebop</td>\n",
       "      <td>TV</td>\n",
       "      <td>Spring</td>\n",
       "      <td>1998</td>\n",
       "    </tr>\n",
       "  </tbody>\n",
       "</table>\n",
       "<p>5 rows × 21 columns</p>\n",
       "</div>"
      ],
      "text/plain": [
       "   mal_id                 aired_from                   aired_to  \\\n",
       "0       1  1998-04-03T00:00:00+00:00  1999-04-24T00:00:00+00:00   \n",
       "1       1  1998-04-03T00:00:00+00:00  1999-04-24T00:00:00+00:00   \n",
       "2       1  1998-04-03T00:00:00+00:00  1999-04-24T00:00:00+00:00   \n",
       "3       1  1998-04-03T00:00:00+00:00  1999-04-24T00:00:00+00:00   \n",
       "4       1  1998-04-03T00:00:00+00:00  1999-04-24T00:00:00+00:00   \n",
       "\n",
       "        duration  episodes     genres  popularity    premiered  rank  \\\n",
       "0  24 min per ep        26     Action          38  Spring 1998  27.0   \n",
       "1  24 min per ep        26  Adventure          38  Spring 1998  27.0   \n",
       "2  24 min per ep        26     Comedy          38  Spring 1998  27.0   \n",
       "3  24 min per ep        26      Drama          38  Spring 1998  27.0   \n",
       "4  24 min per ep        26     Sci-Fi          38  Spring 1998  27.0   \n",
       "\n",
       "                           rating  ...  scored_by    source           status  \\\n",
       "0  R - 17+ (violence & profanity)  ...     544987  Original  Finished Airing   \n",
       "1  R - 17+ (violence & profanity)  ...     544987  Original  Finished Airing   \n",
       "2  R - 17+ (violence & profanity)  ...     544987  Original  Finished Airing   \n",
       "3  R - 17+ (violence & profanity)  ...     544987  Original  Finished Airing   \n",
       "4  R - 17+ (violence & profanity)  ...     544987  Original  Finished Airing   \n",
       "\n",
       "   studios                                           synopsis         title  \\\n",
       "0  Sunrise  In the year 2071, humanity has colonized sever...  Cowboy Bebop   \n",
       "1  Sunrise  In the year 2071, humanity has colonized sever...  Cowboy Bebop   \n",
       "2  Sunrise  In the year 2071, humanity has colonized sever...  Cowboy Bebop   \n",
       "3  Sunrise  In the year 2071, humanity has colonized sever...  Cowboy Bebop   \n",
       "4  Sunrise  In the year 2071, humanity has colonized sever...  Cowboy Bebop   \n",
       "\n",
       "  title_english type premiered_season premiered_year  \n",
       "0  Cowboy Bebop   TV           Spring           1998  \n",
       "1  Cowboy Bebop   TV           Spring           1998  \n",
       "2  Cowboy Bebop   TV           Spring           1998  \n",
       "3  Cowboy Bebop   TV           Spring           1998  \n",
       "4  Cowboy Bebop   TV           Spring           1998  \n",
       "\n",
       "[5 rows x 21 columns]"
      ]
     },
     "execution_count": 15,
     "metadata": {},
     "output_type": "execute_result"
    }
   ],
   "source": [
    "data.head(5)"
   ]
  },
  {
   "cell_type": "code",
   "execution_count": 16,
   "metadata": {},
   "outputs": [
    {
     "data": {
      "text/plain": [
       "Index(['mal_id', 'aired_from', 'aired_to', 'duration', 'episodes', 'genres',\n",
       "       'popularity', 'premiered', 'rank', 'rating', 'score', 'scored_by',\n",
       "       'source', 'status', 'studios', 'synopsis', 'title', 'title_english',\n",
       "       'type', 'premiered_season', 'premiered_year'],\n",
       "      dtype='object')"
      ]
     },
     "execution_count": 16,
     "metadata": {},
     "output_type": "execute_result"
    }
   ],
   "source": [
    "data.columns"
   ]
  },
  {
   "cell_type": "markdown",
   "metadata": {},
   "source": [
    "### Dropping Columns"
   ]
  },
  {
   "cell_type": "code",
   "execution_count": 17,
   "metadata": {},
   "outputs": [],
   "source": [
    "data.drop(['mal_id', 'aired_from', 'aired_to', 'synopsis', 'status'], axis = 1, inplace = True)"
   ]
  },
  {
   "cell_type": "code",
   "execution_count": 18,
   "metadata": {},
   "outputs": [
    {
     "data": {
      "text/html": [
       "<div>\n",
       "<style scoped>\n",
       "    .dataframe tbody tr th:only-of-type {\n",
       "        vertical-align: middle;\n",
       "    }\n",
       "\n",
       "    .dataframe tbody tr th {\n",
       "        vertical-align: top;\n",
       "    }\n",
       "\n",
       "    .dataframe thead th {\n",
       "        text-align: right;\n",
       "    }\n",
       "</style>\n",
       "<table border=\"1\" class=\"dataframe\">\n",
       "  <thead>\n",
       "    <tr style=\"text-align: right;\">\n",
       "      <th></th>\n",
       "      <th>duration</th>\n",
       "      <th>episodes</th>\n",
       "      <th>genres</th>\n",
       "      <th>popularity</th>\n",
       "      <th>premiered</th>\n",
       "      <th>rank</th>\n",
       "      <th>rating</th>\n",
       "      <th>score</th>\n",
       "      <th>scored_by</th>\n",
       "      <th>source</th>\n",
       "      <th>studios</th>\n",
       "      <th>title</th>\n",
       "      <th>title_english</th>\n",
       "      <th>type</th>\n",
       "      <th>premiered_season</th>\n",
       "      <th>premiered_year</th>\n",
       "    </tr>\n",
       "  </thead>\n",
       "  <tbody>\n",
       "    <tr>\n",
       "      <th>0</th>\n",
       "      <td>24 min per ep</td>\n",
       "      <td>26</td>\n",
       "      <td>Action</td>\n",
       "      <td>38</td>\n",
       "      <td>Spring 1998</td>\n",
       "      <td>27.0</td>\n",
       "      <td>R - 17+ (violence &amp; profanity)</td>\n",
       "      <td>8.79</td>\n",
       "      <td>544987</td>\n",
       "      <td>Original</td>\n",
       "      <td>Sunrise</td>\n",
       "      <td>Cowboy Bebop</td>\n",
       "      <td>Cowboy Bebop</td>\n",
       "      <td>TV</td>\n",
       "      <td>Spring</td>\n",
       "      <td>1998</td>\n",
       "    </tr>\n",
       "    <tr>\n",
       "      <th>1</th>\n",
       "      <td>24 min per ep</td>\n",
       "      <td>26</td>\n",
       "      <td>Adventure</td>\n",
       "      <td>38</td>\n",
       "      <td>Spring 1998</td>\n",
       "      <td>27.0</td>\n",
       "      <td>R - 17+ (violence &amp; profanity)</td>\n",
       "      <td>8.79</td>\n",
       "      <td>544987</td>\n",
       "      <td>Original</td>\n",
       "      <td>Sunrise</td>\n",
       "      <td>Cowboy Bebop</td>\n",
       "      <td>Cowboy Bebop</td>\n",
       "      <td>TV</td>\n",
       "      <td>Spring</td>\n",
       "      <td>1998</td>\n",
       "    </tr>\n",
       "    <tr>\n",
       "      <th>2</th>\n",
       "      <td>24 min per ep</td>\n",
       "      <td>26</td>\n",
       "      <td>Comedy</td>\n",
       "      <td>38</td>\n",
       "      <td>Spring 1998</td>\n",
       "      <td>27.0</td>\n",
       "      <td>R - 17+ (violence &amp; profanity)</td>\n",
       "      <td>8.79</td>\n",
       "      <td>544987</td>\n",
       "      <td>Original</td>\n",
       "      <td>Sunrise</td>\n",
       "      <td>Cowboy Bebop</td>\n",
       "      <td>Cowboy Bebop</td>\n",
       "      <td>TV</td>\n",
       "      <td>Spring</td>\n",
       "      <td>1998</td>\n",
       "    </tr>\n",
       "    <tr>\n",
       "      <th>3</th>\n",
       "      <td>24 min per ep</td>\n",
       "      <td>26</td>\n",
       "      <td>Drama</td>\n",
       "      <td>38</td>\n",
       "      <td>Spring 1998</td>\n",
       "      <td>27.0</td>\n",
       "      <td>R - 17+ (violence &amp; profanity)</td>\n",
       "      <td>8.79</td>\n",
       "      <td>544987</td>\n",
       "      <td>Original</td>\n",
       "      <td>Sunrise</td>\n",
       "      <td>Cowboy Bebop</td>\n",
       "      <td>Cowboy Bebop</td>\n",
       "      <td>TV</td>\n",
       "      <td>Spring</td>\n",
       "      <td>1998</td>\n",
       "    </tr>\n",
       "    <tr>\n",
       "      <th>4</th>\n",
       "      <td>24 min per ep</td>\n",
       "      <td>26</td>\n",
       "      <td>Sci-Fi</td>\n",
       "      <td>38</td>\n",
       "      <td>Spring 1998</td>\n",
       "      <td>27.0</td>\n",
       "      <td>R - 17+ (violence &amp; profanity)</td>\n",
       "      <td>8.79</td>\n",
       "      <td>544987</td>\n",
       "      <td>Original</td>\n",
       "      <td>Sunrise</td>\n",
       "      <td>Cowboy Bebop</td>\n",
       "      <td>Cowboy Bebop</td>\n",
       "      <td>TV</td>\n",
       "      <td>Spring</td>\n",
       "      <td>1998</td>\n",
       "    </tr>\n",
       "  </tbody>\n",
       "</table>\n",
       "</div>"
      ],
      "text/plain": [
       "        duration  episodes     genres  popularity    premiered  rank  \\\n",
       "0  24 min per ep        26     Action          38  Spring 1998  27.0   \n",
       "1  24 min per ep        26  Adventure          38  Spring 1998  27.0   \n",
       "2  24 min per ep        26     Comedy          38  Spring 1998  27.0   \n",
       "3  24 min per ep        26      Drama          38  Spring 1998  27.0   \n",
       "4  24 min per ep        26     Sci-Fi          38  Spring 1998  27.0   \n",
       "\n",
       "                           rating  score  scored_by    source  studios  \\\n",
       "0  R - 17+ (violence & profanity)   8.79     544987  Original  Sunrise   \n",
       "1  R - 17+ (violence & profanity)   8.79     544987  Original  Sunrise   \n",
       "2  R - 17+ (violence & profanity)   8.79     544987  Original  Sunrise   \n",
       "3  R - 17+ (violence & profanity)   8.79     544987  Original  Sunrise   \n",
       "4  R - 17+ (violence & profanity)   8.79     544987  Original  Sunrise   \n",
       "\n",
       "          title title_english type premiered_season premiered_year  \n",
       "0  Cowboy Bebop  Cowboy Bebop   TV           Spring           1998  \n",
       "1  Cowboy Bebop  Cowboy Bebop   TV           Spring           1998  \n",
       "2  Cowboy Bebop  Cowboy Bebop   TV           Spring           1998  \n",
       "3  Cowboy Bebop  Cowboy Bebop   TV           Spring           1998  \n",
       "4  Cowboy Bebop  Cowboy Bebop   TV           Spring           1998  "
      ]
     },
     "execution_count": 18,
     "metadata": {},
     "output_type": "execute_result"
    }
   ],
   "source": [
    "data.head(5)"
   ]
  },
  {
   "cell_type": "markdown",
   "metadata": {},
   "source": [
    "#### Drop primiered column"
   ]
  },
  {
   "cell_type": "code",
   "execution_count": 19,
   "metadata": {},
   "outputs": [],
   "source": [
    "data.drop(['premiered'], axis = 1, inplace = True)"
   ]
  },
  {
   "cell_type": "code",
   "execution_count": 20,
   "metadata": {},
   "outputs": [
    {
     "data": {
      "text/html": [
       "<div>\n",
       "<style scoped>\n",
       "    .dataframe tbody tr th:only-of-type {\n",
       "        vertical-align: middle;\n",
       "    }\n",
       "\n",
       "    .dataframe tbody tr th {\n",
       "        vertical-align: top;\n",
       "    }\n",
       "\n",
       "    .dataframe thead th {\n",
       "        text-align: right;\n",
       "    }\n",
       "</style>\n",
       "<table border=\"1\" class=\"dataframe\">\n",
       "  <thead>\n",
       "    <tr style=\"text-align: right;\">\n",
       "      <th></th>\n",
       "      <th>duration</th>\n",
       "      <th>episodes</th>\n",
       "      <th>genres</th>\n",
       "      <th>popularity</th>\n",
       "      <th>rank</th>\n",
       "      <th>rating</th>\n",
       "      <th>score</th>\n",
       "      <th>scored_by</th>\n",
       "      <th>source</th>\n",
       "      <th>studios</th>\n",
       "      <th>title</th>\n",
       "      <th>title_english</th>\n",
       "      <th>type</th>\n",
       "      <th>premiered_season</th>\n",
       "      <th>premiered_year</th>\n",
       "    </tr>\n",
       "  </thead>\n",
       "  <tbody>\n",
       "    <tr>\n",
       "      <th>0</th>\n",
       "      <td>24 min per ep</td>\n",
       "      <td>26</td>\n",
       "      <td>Action</td>\n",
       "      <td>38</td>\n",
       "      <td>27.0</td>\n",
       "      <td>R - 17+ (violence &amp; profanity)</td>\n",
       "      <td>8.79</td>\n",
       "      <td>544987</td>\n",
       "      <td>Original</td>\n",
       "      <td>Sunrise</td>\n",
       "      <td>Cowboy Bebop</td>\n",
       "      <td>Cowboy Bebop</td>\n",
       "      <td>TV</td>\n",
       "      <td>Spring</td>\n",
       "      <td>1998</td>\n",
       "    </tr>\n",
       "    <tr>\n",
       "      <th>1</th>\n",
       "      <td>24 min per ep</td>\n",
       "      <td>26</td>\n",
       "      <td>Adventure</td>\n",
       "      <td>38</td>\n",
       "      <td>27.0</td>\n",
       "      <td>R - 17+ (violence &amp; profanity)</td>\n",
       "      <td>8.79</td>\n",
       "      <td>544987</td>\n",
       "      <td>Original</td>\n",
       "      <td>Sunrise</td>\n",
       "      <td>Cowboy Bebop</td>\n",
       "      <td>Cowboy Bebop</td>\n",
       "      <td>TV</td>\n",
       "      <td>Spring</td>\n",
       "      <td>1998</td>\n",
       "    </tr>\n",
       "    <tr>\n",
       "      <th>2</th>\n",
       "      <td>24 min per ep</td>\n",
       "      <td>26</td>\n",
       "      <td>Comedy</td>\n",
       "      <td>38</td>\n",
       "      <td>27.0</td>\n",
       "      <td>R - 17+ (violence &amp; profanity)</td>\n",
       "      <td>8.79</td>\n",
       "      <td>544987</td>\n",
       "      <td>Original</td>\n",
       "      <td>Sunrise</td>\n",
       "      <td>Cowboy Bebop</td>\n",
       "      <td>Cowboy Bebop</td>\n",
       "      <td>TV</td>\n",
       "      <td>Spring</td>\n",
       "      <td>1998</td>\n",
       "    </tr>\n",
       "    <tr>\n",
       "      <th>3</th>\n",
       "      <td>24 min per ep</td>\n",
       "      <td>26</td>\n",
       "      <td>Drama</td>\n",
       "      <td>38</td>\n",
       "      <td>27.0</td>\n",
       "      <td>R - 17+ (violence &amp; profanity)</td>\n",
       "      <td>8.79</td>\n",
       "      <td>544987</td>\n",
       "      <td>Original</td>\n",
       "      <td>Sunrise</td>\n",
       "      <td>Cowboy Bebop</td>\n",
       "      <td>Cowboy Bebop</td>\n",
       "      <td>TV</td>\n",
       "      <td>Spring</td>\n",
       "      <td>1998</td>\n",
       "    </tr>\n",
       "    <tr>\n",
       "      <th>4</th>\n",
       "      <td>24 min per ep</td>\n",
       "      <td>26</td>\n",
       "      <td>Sci-Fi</td>\n",
       "      <td>38</td>\n",
       "      <td>27.0</td>\n",
       "      <td>R - 17+ (violence &amp; profanity)</td>\n",
       "      <td>8.79</td>\n",
       "      <td>544987</td>\n",
       "      <td>Original</td>\n",
       "      <td>Sunrise</td>\n",
       "      <td>Cowboy Bebop</td>\n",
       "      <td>Cowboy Bebop</td>\n",
       "      <td>TV</td>\n",
       "      <td>Spring</td>\n",
       "      <td>1998</td>\n",
       "    </tr>\n",
       "  </tbody>\n",
       "</table>\n",
       "</div>"
      ],
      "text/plain": [
       "        duration  episodes     genres  popularity  rank  \\\n",
       "0  24 min per ep        26     Action          38  27.0   \n",
       "1  24 min per ep        26  Adventure          38  27.0   \n",
       "2  24 min per ep        26     Comedy          38  27.0   \n",
       "3  24 min per ep        26      Drama          38  27.0   \n",
       "4  24 min per ep        26     Sci-Fi          38  27.0   \n",
       "\n",
       "                           rating  score  scored_by    source  studios  \\\n",
       "0  R - 17+ (violence & profanity)   8.79     544987  Original  Sunrise   \n",
       "1  R - 17+ (violence & profanity)   8.79     544987  Original  Sunrise   \n",
       "2  R - 17+ (violence & profanity)   8.79     544987  Original  Sunrise   \n",
       "3  R - 17+ (violence & profanity)   8.79     544987  Original  Sunrise   \n",
       "4  R - 17+ (violence & profanity)   8.79     544987  Original  Sunrise   \n",
       "\n",
       "          title title_english type premiered_season premiered_year  \n",
       "0  Cowboy Bebop  Cowboy Bebop   TV           Spring           1998  \n",
       "1  Cowboy Bebop  Cowboy Bebop   TV           Spring           1998  \n",
       "2  Cowboy Bebop  Cowboy Bebop   TV           Spring           1998  \n",
       "3  Cowboy Bebop  Cowboy Bebop   TV           Spring           1998  \n",
       "4  Cowboy Bebop  Cowboy Bebop   TV           Spring           1998  "
      ]
     },
     "execution_count": 20,
     "metadata": {},
     "output_type": "execute_result"
    }
   ],
   "source": [
    "data.head(5)"
   ]
  },
  {
   "cell_type": "markdown",
   "metadata": {},
   "source": [
    "#### Drop English title column"
   ]
  },
  {
   "cell_type": "code",
   "execution_count": 21,
   "metadata": {},
   "outputs": [],
   "source": [
    "data.drop(['title_english'], axis = 1, inplace = True)"
   ]
  },
  {
   "cell_type": "code",
   "execution_count": 22,
   "metadata": {},
   "outputs": [
    {
     "data": {
      "text/html": [
       "<div>\n",
       "<style scoped>\n",
       "    .dataframe tbody tr th:only-of-type {\n",
       "        vertical-align: middle;\n",
       "    }\n",
       "\n",
       "    .dataframe tbody tr th {\n",
       "        vertical-align: top;\n",
       "    }\n",
       "\n",
       "    .dataframe thead th {\n",
       "        text-align: right;\n",
       "    }\n",
       "</style>\n",
       "<table border=\"1\" class=\"dataframe\">\n",
       "  <thead>\n",
       "    <tr style=\"text-align: right;\">\n",
       "      <th></th>\n",
       "      <th>duration</th>\n",
       "      <th>episodes</th>\n",
       "      <th>genres</th>\n",
       "      <th>popularity</th>\n",
       "      <th>rank</th>\n",
       "      <th>rating</th>\n",
       "      <th>score</th>\n",
       "      <th>scored_by</th>\n",
       "      <th>source</th>\n",
       "      <th>studios</th>\n",
       "      <th>title</th>\n",
       "      <th>type</th>\n",
       "      <th>premiered_season</th>\n",
       "      <th>premiered_year</th>\n",
       "    </tr>\n",
       "  </thead>\n",
       "  <tbody>\n",
       "    <tr>\n",
       "      <th>0</th>\n",
       "      <td>24 min per ep</td>\n",
       "      <td>26</td>\n",
       "      <td>Action</td>\n",
       "      <td>38</td>\n",
       "      <td>27.0</td>\n",
       "      <td>R - 17+ (violence &amp; profanity)</td>\n",
       "      <td>8.79</td>\n",
       "      <td>544987</td>\n",
       "      <td>Original</td>\n",
       "      <td>Sunrise</td>\n",
       "      <td>Cowboy Bebop</td>\n",
       "      <td>TV</td>\n",
       "      <td>Spring</td>\n",
       "      <td>1998</td>\n",
       "    </tr>\n",
       "    <tr>\n",
       "      <th>1</th>\n",
       "      <td>24 min per ep</td>\n",
       "      <td>26</td>\n",
       "      <td>Adventure</td>\n",
       "      <td>38</td>\n",
       "      <td>27.0</td>\n",
       "      <td>R - 17+ (violence &amp; profanity)</td>\n",
       "      <td>8.79</td>\n",
       "      <td>544987</td>\n",
       "      <td>Original</td>\n",
       "      <td>Sunrise</td>\n",
       "      <td>Cowboy Bebop</td>\n",
       "      <td>TV</td>\n",
       "      <td>Spring</td>\n",
       "      <td>1998</td>\n",
       "    </tr>\n",
       "    <tr>\n",
       "      <th>2</th>\n",
       "      <td>24 min per ep</td>\n",
       "      <td>26</td>\n",
       "      <td>Comedy</td>\n",
       "      <td>38</td>\n",
       "      <td>27.0</td>\n",
       "      <td>R - 17+ (violence &amp; profanity)</td>\n",
       "      <td>8.79</td>\n",
       "      <td>544987</td>\n",
       "      <td>Original</td>\n",
       "      <td>Sunrise</td>\n",
       "      <td>Cowboy Bebop</td>\n",
       "      <td>TV</td>\n",
       "      <td>Spring</td>\n",
       "      <td>1998</td>\n",
       "    </tr>\n",
       "    <tr>\n",
       "      <th>3</th>\n",
       "      <td>24 min per ep</td>\n",
       "      <td>26</td>\n",
       "      <td>Drama</td>\n",
       "      <td>38</td>\n",
       "      <td>27.0</td>\n",
       "      <td>R - 17+ (violence &amp; profanity)</td>\n",
       "      <td>8.79</td>\n",
       "      <td>544987</td>\n",
       "      <td>Original</td>\n",
       "      <td>Sunrise</td>\n",
       "      <td>Cowboy Bebop</td>\n",
       "      <td>TV</td>\n",
       "      <td>Spring</td>\n",
       "      <td>1998</td>\n",
       "    </tr>\n",
       "    <tr>\n",
       "      <th>4</th>\n",
       "      <td>24 min per ep</td>\n",
       "      <td>26</td>\n",
       "      <td>Sci-Fi</td>\n",
       "      <td>38</td>\n",
       "      <td>27.0</td>\n",
       "      <td>R - 17+ (violence &amp; profanity)</td>\n",
       "      <td>8.79</td>\n",
       "      <td>544987</td>\n",
       "      <td>Original</td>\n",
       "      <td>Sunrise</td>\n",
       "      <td>Cowboy Bebop</td>\n",
       "      <td>TV</td>\n",
       "      <td>Spring</td>\n",
       "      <td>1998</td>\n",
       "    </tr>\n",
       "  </tbody>\n",
       "</table>\n",
       "</div>"
      ],
      "text/plain": [
       "        duration  episodes     genres  popularity  rank  \\\n",
       "0  24 min per ep        26     Action          38  27.0   \n",
       "1  24 min per ep        26  Adventure          38  27.0   \n",
       "2  24 min per ep        26     Comedy          38  27.0   \n",
       "3  24 min per ep        26      Drama          38  27.0   \n",
       "4  24 min per ep        26     Sci-Fi          38  27.0   \n",
       "\n",
       "                           rating  score  scored_by    source  studios  \\\n",
       "0  R - 17+ (violence & profanity)   8.79     544987  Original  Sunrise   \n",
       "1  R - 17+ (violence & profanity)   8.79     544987  Original  Sunrise   \n",
       "2  R - 17+ (violence & profanity)   8.79     544987  Original  Sunrise   \n",
       "3  R - 17+ (violence & profanity)   8.79     544987  Original  Sunrise   \n",
       "4  R - 17+ (violence & profanity)   8.79     544987  Original  Sunrise   \n",
       "\n",
       "          title type premiered_season premiered_year  \n",
       "0  Cowboy Bebop   TV           Spring           1998  \n",
       "1  Cowboy Bebop   TV           Spring           1998  \n",
       "2  Cowboy Bebop   TV           Spring           1998  \n",
       "3  Cowboy Bebop   TV           Spring           1998  \n",
       "4  Cowboy Bebop   TV           Spring           1998  "
      ]
     },
     "execution_count": 22,
     "metadata": {},
     "output_type": "execute_result"
    }
   ],
   "source": [
    "data.head(5)"
   ]
  },
  {
   "cell_type": "markdown",
   "metadata": {},
   "source": [
    "### Fill NaN with 0 or make the empty column as string"
   ]
  },
  {
   "cell_type": "code",
   "execution_count": 23,
   "metadata": {},
   "outputs": [
    {
     "data": {
      "text/plain": [
       "duration            0\n",
       "episodes            0\n",
       "genres              0\n",
       "popularity          0\n",
       "rank                0\n",
       "rating              0\n",
       "score               0\n",
       "scored_by           0\n",
       "source              0\n",
       "studios             0\n",
       "title               0\n",
       "type                0\n",
       "premiered_season    0\n",
       "premiered_year      0\n",
       "dtype: int64"
      ]
     },
     "execution_count": 23,
     "metadata": {},
     "output_type": "execute_result"
    }
   ],
   "source": [
    "data['rank'] = data['rank'].fillna(data['rank'].dropna().mode().values[0])\n",
    "data['premiered_year'] = data['premiered_year'].fillna(data['premiered_year'].dropna().mode().values[0])\n",
    "data['genres'].fillna('', inplace = True)\n",
    "data['premiered_season'].fillna('', inplace = True)\n",
    "data.isnull().sum()"
   ]
  },
  {
   "cell_type": "code",
   "execution_count": 24,
   "metadata": {},
   "outputs": [
    {
     "data": {
      "text/html": [
       "<div>\n",
       "<style scoped>\n",
       "    .dataframe tbody tr th:only-of-type {\n",
       "        vertical-align: middle;\n",
       "    }\n",
       "\n",
       "    .dataframe tbody tr th {\n",
       "        vertical-align: top;\n",
       "    }\n",
       "\n",
       "    .dataframe thead th {\n",
       "        text-align: right;\n",
       "    }\n",
       "</style>\n",
       "<table border=\"1\" class=\"dataframe\">\n",
       "  <thead>\n",
       "    <tr style=\"text-align: right;\">\n",
       "      <th></th>\n",
       "      <th>duration</th>\n",
       "      <th>episodes</th>\n",
       "      <th>genres</th>\n",
       "      <th>popularity</th>\n",
       "      <th>rank</th>\n",
       "      <th>rating</th>\n",
       "      <th>score</th>\n",
       "      <th>scored_by</th>\n",
       "      <th>source</th>\n",
       "      <th>studios</th>\n",
       "      <th>title</th>\n",
       "      <th>type</th>\n",
       "      <th>premiered_season</th>\n",
       "      <th>premiered_year</th>\n",
       "    </tr>\n",
       "  </thead>\n",
       "  <tbody>\n",
       "    <tr>\n",
       "      <th>0</th>\n",
       "      <td>24 min per ep</td>\n",
       "      <td>26</td>\n",
       "      <td>Action</td>\n",
       "      <td>38</td>\n",
       "      <td>27.0</td>\n",
       "      <td>R - 17+ (violence &amp; profanity)</td>\n",
       "      <td>8.79</td>\n",
       "      <td>544987</td>\n",
       "      <td>Original</td>\n",
       "      <td>Sunrise</td>\n",
       "      <td>Cowboy Bebop</td>\n",
       "      <td>TV</td>\n",
       "      <td>Spring</td>\n",
       "      <td>1998</td>\n",
       "    </tr>\n",
       "    <tr>\n",
       "      <th>1</th>\n",
       "      <td>24 min per ep</td>\n",
       "      <td>26</td>\n",
       "      <td>Adventure</td>\n",
       "      <td>38</td>\n",
       "      <td>27.0</td>\n",
       "      <td>R - 17+ (violence &amp; profanity)</td>\n",
       "      <td>8.79</td>\n",
       "      <td>544987</td>\n",
       "      <td>Original</td>\n",
       "      <td>Sunrise</td>\n",
       "      <td>Cowboy Bebop</td>\n",
       "      <td>TV</td>\n",
       "      <td>Spring</td>\n",
       "      <td>1998</td>\n",
       "    </tr>\n",
       "    <tr>\n",
       "      <th>2</th>\n",
       "      <td>24 min per ep</td>\n",
       "      <td>26</td>\n",
       "      <td>Comedy</td>\n",
       "      <td>38</td>\n",
       "      <td>27.0</td>\n",
       "      <td>R - 17+ (violence &amp; profanity)</td>\n",
       "      <td>8.79</td>\n",
       "      <td>544987</td>\n",
       "      <td>Original</td>\n",
       "      <td>Sunrise</td>\n",
       "      <td>Cowboy Bebop</td>\n",
       "      <td>TV</td>\n",
       "      <td>Spring</td>\n",
       "      <td>1998</td>\n",
       "    </tr>\n",
       "  </tbody>\n",
       "</table>\n",
       "</div>"
      ],
      "text/plain": [
       "        duration  episodes     genres  popularity  rank  \\\n",
       "0  24 min per ep        26     Action          38  27.0   \n",
       "1  24 min per ep        26  Adventure          38  27.0   \n",
       "2  24 min per ep        26     Comedy          38  27.0   \n",
       "\n",
       "                           rating  score  scored_by    source  studios  \\\n",
       "0  R - 17+ (violence & profanity)   8.79     544987  Original  Sunrise   \n",
       "1  R - 17+ (violence & profanity)   8.79     544987  Original  Sunrise   \n",
       "2  R - 17+ (violence & profanity)   8.79     544987  Original  Sunrise   \n",
       "\n",
       "          title type premiered_season premiered_year  \n",
       "0  Cowboy Bebop   TV           Spring           1998  \n",
       "1  Cowboy Bebop   TV           Spring           1998  \n",
       "2  Cowboy Bebop   TV           Spring           1998  "
      ]
     },
     "execution_count": 24,
     "metadata": {},
     "output_type": "execute_result"
    }
   ],
   "source": [
    "data.head(3)"
   ]
  },
  {
   "cell_type": "markdown",
   "metadata": {},
   "source": [
    "### Preprocess User Datat ###"
   ]
  },
  {
   "cell_type": "markdown",
   "metadata": {},
   "source": [
    "Following are the code used to preprocess the user_score_data.csv which is originally derived from user_data.csv. This section was commented out and data was exported into a csv since it takes a while to execute."
   ]
  },
  {
   "cell_type": "code",
   "execution_count": 25,
   "metadata": {},
   "outputs": [],
   "source": [
    "# user_df = pd.read_csv('./datasets/user_data.csv')\n",
    "# user_df.insert(0, 'user_id', range(1, 1 + len(user_df)))\n",
    "# user_watched = user_df[['user_id', 'watched']]\n",
    "\n",
    "# import ast\n",
    "# user_data = []\n",
    "\n",
    "# for i in range(len(user_df)):\n",
    "#     row = user_watched.iloc[i].watched\n",
    "#     row = row.strip('][').split('}, ')\n",
    "#     for item in row:\n",
    "#         row_dict = {}\n",
    "#         if (item[-1] != \"}\"):\n",
    "#             item = item + \"}\"\n",
    "#         item_dict = ast.literal_eval(item)\n",
    "#         row_dict['user_id'] = user_watched.iloc[i].user_id\n",
    "#         row_dict['mal_id'] = item_dict['mal_id']\n",
    "#         row_dict['rating'] = item_dict['score']\n",
    "#         user_data.append(row_dict)\n",
    "\n",
    "# df_user_data = pd.DataFrame(user_data)\n",
    "# df_user_data.to_csv('user_score_data')"
   ]
  },
  {
   "cell_type": "markdown",
   "metadata": {},
   "source": [
    "### Linear Regression ###"
   ]
  },
  {
   "cell_type": "code",
   "execution_count": 26,
   "metadata": {},
   "outputs": [],
   "source": [
    "user_data_df = pd.read_csv('./datasets/user_score_data.csv', usecols=['user_id', 'mal_id', 'rating'], dtype={'user_id':'int32', 'mal_id':'int32', 'rating':'float32'})\n",
    "animes_df = pd.read_csv('./datasets/anime_data.csv', usecols=['mal_id', 'title'], dtype={'mal_id':'int32', 'title':'string'})"
   ]
  },
  {
   "cell_type": "markdown",
   "metadata": {},
   "source": [
    "Not all users will rate every anime. Therefore, there are missing data in the ratings of animes. To have a better prediction, linear regression can be used to generate predictions of missing data based on existing values."
   ]
  },
  {
   "cell_type": "code",
   "execution_count": 27,
   "metadata": {},
   "outputs": [],
   "source": [
    "def getOverallUserAvgAnimeRating(user_data_df):\n",
    "    average = user_data_df.groupby('mal_id')['rating'].agg('mean')\n",
    "    return pd.DataFrame({'mal_id':average.index, 'rating':average.values})"
   ]
  },
  {
   "cell_type": "code",
   "execution_count": 28,
   "metadata": {},
   "outputs": [],
   "source": [
    "def getTestTrainData(y):\n",
    "    test_data = y[y['rating_y'].isna()]\n",
    "    train_data = y.dropna(subset=['rating_y'])\n",
    "\n",
    "    y_train = train_data['rating_y']\n",
    "    X_train = train_data.drop('rating_y', axis=1)\n",
    "    \n",
    "    return test_data, train_data, y_train, X_train"
   ]
  },
  {
   "cell_type": "code",
   "execution_count": 29,
   "metadata": {},
   "outputs": [],
   "source": [
    "def fillMissingRatingDataLinReg(y):\n",
    "    test_data, train_data, y_train, X_train = getTestTrainData(y)\n",
    "    lin_model = LinearRegression().fit(X_train, y_train)\n",
    "    \n",
    "    X_test = test_data.drop('rating_y', axis=1)\n",
    "    y_pred = lin_model.predict(X_test)\n",
    "    \n",
    "    test_data.loc[test_data.rating_y.isna(), 'rating_y'] = y_pred\n",
    "    \n",
    "    new = pd.concat([test_data, train_data], axis=0).sort_values(by=['mal_id'], ascending=True)\n",
    "    new.rename(columns={'rating_y':'rating'}, inplace=True)\n",
    "    \n",
    "    return new"
   ]
  },
  {
   "cell_type": "code",
   "execution_count": 30,
   "metadata": {},
   "outputs": [],
   "source": [
    "def getComprehensiveUserRating(user_data_df, user_id):\n",
    "    '''\n",
    "        Takes user data and fills missing data based on linear regression\n",
    "        using collaborative average anime rating. Predicts what user of specified\n",
    "        id will rate each anime.\n",
    "    '''\n",
    "    # get average anime rating\n",
    "    avg_df = getOverallUserAvgAnimeRating(user_data_df)\n",
    "    \n",
    "    # get all user rating\n",
    "    y = (user_data_df[user_data_df['user_id'] == user_id])\n",
    "    y = y.drop(columns=['user_id'])\n",
    "    \n",
    "    merged_y = pd.merge(avg_df, y, on='mal_id',how='left').drop(columns=['rating_x'])\n",
    "    \n",
    "    comprehensive_df = fillMissingRatingDataLinReg(merged_y)\n",
    "    \n",
    "    return comprehensive_df"
   ]
  },
  {
   "cell_type": "code",
   "execution_count": 31,
   "metadata": {},
   "outputs": [],
   "source": [
    "# new = getComprehensiveUserRating(user_data_df, 1)"
   ]
  },
  {
   "cell_type": "markdown",
   "metadata": {},
   "source": [
    "### K-Nearest Neighbors ###"
   ]
  },
  {
   "cell_type": "markdown",
   "metadata": {},
   "source": [
    "K-nearest neighbors can be used to generate recommendation based on specified anime. Using collaborative filtering, k-nearest neighbors will search for what other animes were enjoyed by other users who also enjoyed watching the specified anime."
   ]
  },
  {
   "cell_type": "code",
   "execution_count": 32,
   "metadata": {},
   "outputs": [
    {
     "name": "stdout",
     "output_type": "stream",
     "text": [
      "Requirement already satisfied: fuzzywuzzy in /Library/Frameworks/Python.framework/Versions/3.8/lib/python3.8/site-packages (0.18.0)\n",
      "\u001b[33mWARNING: You are using pip version 22.0.3; however, version 22.0.4 is available.\n",
      "You should consider upgrading via the '/Library/Frameworks/Python.framework/Versions/3.8/bin/python3 -m pip install --upgrade pip' command.\u001b[0m\u001b[33m\n",
      "\u001b[0mNote: you may need to restart the kernel to use updated packages.\n"
     ]
    }
   ],
   "source": [
    "pip install fuzzywuzzy"
   ]
  },
  {
   "cell_type": "code",
   "execution_count": 33,
   "metadata": {},
   "outputs": [],
   "source": [
    "animes_users = user_data_df.pivot(index='mal_id', columns='user_id', values='rating').fillna(0)\n",
    "animes_users_mat = csr_matrix(animes_users.values)"
   ]
  },
  {
   "cell_type": "code",
   "execution_count": 34,
   "metadata": {},
   "outputs": [
    {
     "data": {
      "text/plain": [
       "NearestNeighbors(algorithm='brute', metric='cosine', n_neighbors=20)"
      ]
     },
     "execution_count": 34,
     "metadata": {},
     "output_type": "execute_result"
    }
   ],
   "source": [
    "model_knn = NearestNeighbors(metric='cosine', algorithm='brute', n_neighbors=20)\n",
    "model_knn.fit(animes_users_mat)"
   ]
  },
  {
   "cell_type": "code",
   "execution_count": 35,
   "metadata": {},
   "outputs": [],
   "source": [
    "def getRecommendations(movie_title, data_matrix, animes_df, model_knn, n_recommendations):\n",
    "    model_knn.fit(data_matrix)\n",
    "    anime_index = process.extractOne(movie_title, animes_df['title'])[2]\n",
    "    distances, indices = model_knn.kneighbors(data_matrix[anime_index], n_neighbors=n_recommendations)\n",
    "    for i in indices:\n",
    "        print(animes_df['title'][i].where(i != anime_index))\n",
    "    "
   ]
  },
  {
   "cell_type": "code",
   "execution_count": 36,
   "metadata": {},
   "outputs": [
    {
     "name": "stdout",
     "output_type": "stream",
     "text": [
      "3990                                                 <NA>\n",
      "6198    Iizuka-senpai x Blazer: Ane Kyun! yori The Ani...\n",
      "5435                              Kanashimi no Belladonna\n",
      "3093    New Mobile Report Gundam Wing: Frozen Teardrop...\n",
      "3295                                       Plastic Little\n",
      "Name: title, dtype: string\n"
     ]
    }
   ],
   "source": [
    "getRecommendations('Bleach', animes_users_mat, animes_df, model_knn, 5)"
   ]
  },
  {
   "cell_type": "markdown",
   "metadata": {},
   "source": [
    "### K-Mean CLustering w/ PCA"
   ]
  },
  {
   "cell_type": "markdown",
   "metadata": {},
   "source": [
    "#### Testing dataset"
   ]
  },
  {
   "cell_type": "code",
   "execution_count": 37,
   "metadata": {},
   "outputs": [],
   "source": [
    "copy_data = data"
   ]
  },
  {
   "cell_type": "code",
   "execution_count": 38,
   "metadata": {},
   "outputs": [
    {
     "data": {
      "text/html": [
       "<div>\n",
       "<style scoped>\n",
       "    .dataframe tbody tr th:only-of-type {\n",
       "        vertical-align: middle;\n",
       "    }\n",
       "\n",
       "    .dataframe tbody tr th {\n",
       "        vertical-align: top;\n",
       "    }\n",
       "\n",
       "    .dataframe thead th {\n",
       "        text-align: right;\n",
       "    }\n",
       "</style>\n",
       "<table border=\"1\" class=\"dataframe\">\n",
       "  <thead>\n",
       "    <tr style=\"text-align: right;\">\n",
       "      <th></th>\n",
       "      <th>duration</th>\n",
       "      <th>episodes</th>\n",
       "      <th>genres</th>\n",
       "      <th>popularity</th>\n",
       "      <th>rank</th>\n",
       "      <th>rating</th>\n",
       "      <th>score</th>\n",
       "      <th>scored_by</th>\n",
       "      <th>source</th>\n",
       "      <th>studios</th>\n",
       "      <th>title</th>\n",
       "      <th>type</th>\n",
       "      <th>premiered_season</th>\n",
       "      <th>premiered_year</th>\n",
       "    </tr>\n",
       "  </thead>\n",
       "  <tbody>\n",
       "    <tr>\n",
       "      <th>0</th>\n",
       "      <td>24 min per ep</td>\n",
       "      <td>26</td>\n",
       "      <td>Action</td>\n",
       "      <td>38</td>\n",
       "      <td>27.0</td>\n",
       "      <td>R - 17+ (violence &amp; profanity)</td>\n",
       "      <td>8.79</td>\n",
       "      <td>544987</td>\n",
       "      <td>Original</td>\n",
       "      <td>Sunrise</td>\n",
       "      <td>Cowboy Bebop</td>\n",
       "      <td>TV</td>\n",
       "      <td>Spring</td>\n",
       "      <td>1998</td>\n",
       "    </tr>\n",
       "    <tr>\n",
       "      <th>1</th>\n",
       "      <td>24 min per ep</td>\n",
       "      <td>26</td>\n",
       "      <td>Adventure</td>\n",
       "      <td>38</td>\n",
       "      <td>27.0</td>\n",
       "      <td>R - 17+ (violence &amp; profanity)</td>\n",
       "      <td>8.79</td>\n",
       "      <td>544987</td>\n",
       "      <td>Original</td>\n",
       "      <td>Sunrise</td>\n",
       "      <td>Cowboy Bebop</td>\n",
       "      <td>TV</td>\n",
       "      <td>Spring</td>\n",
       "      <td>1998</td>\n",
       "    </tr>\n",
       "    <tr>\n",
       "      <th>2</th>\n",
       "      <td>24 min per ep</td>\n",
       "      <td>26</td>\n",
       "      <td>Comedy</td>\n",
       "      <td>38</td>\n",
       "      <td>27.0</td>\n",
       "      <td>R - 17+ (violence &amp; profanity)</td>\n",
       "      <td>8.79</td>\n",
       "      <td>544987</td>\n",
       "      <td>Original</td>\n",
       "      <td>Sunrise</td>\n",
       "      <td>Cowboy Bebop</td>\n",
       "      <td>TV</td>\n",
       "      <td>Spring</td>\n",
       "      <td>1998</td>\n",
       "    </tr>\n",
       "    <tr>\n",
       "      <th>3</th>\n",
       "      <td>24 min per ep</td>\n",
       "      <td>26</td>\n",
       "      <td>Drama</td>\n",
       "      <td>38</td>\n",
       "      <td>27.0</td>\n",
       "      <td>R - 17+ (violence &amp; profanity)</td>\n",
       "      <td>8.79</td>\n",
       "      <td>544987</td>\n",
       "      <td>Original</td>\n",
       "      <td>Sunrise</td>\n",
       "      <td>Cowboy Bebop</td>\n",
       "      <td>TV</td>\n",
       "      <td>Spring</td>\n",
       "      <td>1998</td>\n",
       "    </tr>\n",
       "    <tr>\n",
       "      <th>4</th>\n",
       "      <td>24 min per ep</td>\n",
       "      <td>26</td>\n",
       "      <td>Sci-Fi</td>\n",
       "      <td>38</td>\n",
       "      <td>27.0</td>\n",
       "      <td>R - 17+ (violence &amp; profanity)</td>\n",
       "      <td>8.79</td>\n",
       "      <td>544987</td>\n",
       "      <td>Original</td>\n",
       "      <td>Sunrise</td>\n",
       "      <td>Cowboy Bebop</td>\n",
       "      <td>TV</td>\n",
       "      <td>Spring</td>\n",
       "      <td>1998</td>\n",
       "    </tr>\n",
       "  </tbody>\n",
       "</table>\n",
       "</div>"
      ],
      "text/plain": [
       "        duration  episodes     genres  popularity  rank  \\\n",
       "0  24 min per ep        26     Action          38  27.0   \n",
       "1  24 min per ep        26  Adventure          38  27.0   \n",
       "2  24 min per ep        26     Comedy          38  27.0   \n",
       "3  24 min per ep        26      Drama          38  27.0   \n",
       "4  24 min per ep        26     Sci-Fi          38  27.0   \n",
       "\n",
       "                           rating  score  scored_by    source  studios  \\\n",
       "0  R - 17+ (violence & profanity)   8.79     544987  Original  Sunrise   \n",
       "1  R - 17+ (violence & profanity)   8.79     544987  Original  Sunrise   \n",
       "2  R - 17+ (violence & profanity)   8.79     544987  Original  Sunrise   \n",
       "3  R - 17+ (violence & profanity)   8.79     544987  Original  Sunrise   \n",
       "4  R - 17+ (violence & profanity)   8.79     544987  Original  Sunrise   \n",
       "\n",
       "          title type premiered_season premiered_year  \n",
       "0  Cowboy Bebop   TV           Spring           1998  \n",
       "1  Cowboy Bebop   TV           Spring           1998  \n",
       "2  Cowboy Bebop   TV           Spring           1998  \n",
       "3  Cowboy Bebop   TV           Spring           1998  \n",
       "4  Cowboy Bebop   TV           Spring           1998  "
      ]
     },
     "execution_count": 38,
     "metadata": {},
     "output_type": "execute_result"
    }
   ],
   "source": [
    "copy_data.head()"
   ]
  },
  {
   "cell_type": "code",
   "execution_count": 39,
   "metadata": {},
   "outputs": [],
   "source": [
    "copy_data.drop(['duration', 'genres', 'rating', 'source', 'studios', 'type', 'premiered_season', 'title'], axis = 1, inplace = True)"
   ]
  },
  {
   "cell_type": "code",
   "execution_count": 40,
   "metadata": {},
   "outputs": [
    {
     "data": {
      "text/html": [
       "<div>\n",
       "<style scoped>\n",
       "    .dataframe tbody tr th:only-of-type {\n",
       "        vertical-align: middle;\n",
       "    }\n",
       "\n",
       "    .dataframe tbody tr th {\n",
       "        vertical-align: top;\n",
       "    }\n",
       "\n",
       "    .dataframe thead th {\n",
       "        text-align: right;\n",
       "    }\n",
       "</style>\n",
       "<table border=\"1\" class=\"dataframe\">\n",
       "  <thead>\n",
       "    <tr style=\"text-align: right;\">\n",
       "      <th></th>\n",
       "      <th>episodes</th>\n",
       "      <th>popularity</th>\n",
       "      <th>rank</th>\n",
       "      <th>score</th>\n",
       "      <th>scored_by</th>\n",
       "      <th>premiered_year</th>\n",
       "    </tr>\n",
       "  </thead>\n",
       "  <tbody>\n",
       "    <tr>\n",
       "      <th>0</th>\n",
       "      <td>26</td>\n",
       "      <td>38</td>\n",
       "      <td>27.0</td>\n",
       "      <td>8.79</td>\n",
       "      <td>544987</td>\n",
       "      <td>1998</td>\n",
       "    </tr>\n",
       "    <tr>\n",
       "      <th>1</th>\n",
       "      <td>26</td>\n",
       "      <td>38</td>\n",
       "      <td>27.0</td>\n",
       "      <td>8.79</td>\n",
       "      <td>544987</td>\n",
       "      <td>1998</td>\n",
       "    </tr>\n",
       "    <tr>\n",
       "      <th>2</th>\n",
       "      <td>26</td>\n",
       "      <td>38</td>\n",
       "      <td>27.0</td>\n",
       "      <td>8.79</td>\n",
       "      <td>544987</td>\n",
       "      <td>1998</td>\n",
       "    </tr>\n",
       "  </tbody>\n",
       "</table>\n",
       "</div>"
      ],
      "text/plain": [
       "   episodes  popularity  rank  score  scored_by premiered_year\n",
       "0        26          38  27.0   8.79     544987           1998\n",
       "1        26          38  27.0   8.79     544987           1998\n",
       "2        26          38  27.0   8.79     544987           1998"
      ]
     },
     "execution_count": 40,
     "metadata": {},
     "output_type": "execute_result"
    }
   ],
   "source": [
    "copy_data.head(3)"
   ]
  },
  {
   "cell_type": "code",
   "execution_count": 41,
   "metadata": {},
   "outputs": [
    {
     "data": {
      "text/plain": [
       "PCA()"
      ]
     },
     "execution_count": 41,
     "metadata": {},
     "output_type": "execute_result"
    }
   ],
   "source": [
    "pca = PCA()\n",
    "pca.fit(copy_data)"
   ]
  },
  {
   "cell_type": "code",
   "execution_count": 42,
   "metadata": {},
   "outputs": [
    {
     "data": {
      "text/plain": [
       "Text(0, 0.5, 'Explained Variance')"
      ]
     },
     "execution_count": 42,
     "metadata": {},
     "output_type": "execute_result"
    },
    {
     "data": {
      "image/png": "[encoded data removed]",
      "text/plain": [
       "<Figure size 1080x720 with 1 Axes>"
      ]
     },
     "metadata": {
      "needs_background": "light"
     },
     "output_type": "display_data"
    }
   ],
   "source": [
    "pca.explained_variance_ratio_\n",
    "plt.figure(figsize = (15, 10))\n",
    "plt.plot(pca.explained_variance_ratio_.cumsum(), marker = 'o', linestyle = '--')\n",
    "plt.xlabel('Num of Component')\n",
    "plt.ylabel('Explained Variance')"
   ]
  },
  {
   "cell_type": "code",
   "execution_count": 43,
   "metadata": {},
   "outputs": [
    {
     "data": {
      "text/plain": [
       "PCA()"
      ]
     },
     "execution_count": 43,
     "metadata": {},
     "output_type": "execute_result"
    }
   ],
   "source": [
    "pcs = PCA(n_components = 2)\n",
    "pca.fit(copy_data)"
   ]
  },
  {
   "cell_type": "code",
   "execution_count": 44,
   "metadata": {},
   "outputs": [
    {
     "data": {
      "text/plain": [
       "array([[ 5.11544369e+05,  2.92291512e+03, -1.28216085e+03,\n",
       "        -5.43023240e+00, -1.43926906e+01, -4.88849352e-01],\n",
       "       [ 5.11544369e+05,  2.92291512e+03, -1.28216085e+03,\n",
       "        -5.43023240e+00, -1.43926906e+01, -4.88849352e-01],\n",
       "       [ 5.11544369e+05,  2.92291512e+03, -1.28216085e+03,\n",
       "        -5.43023240e+00, -1.43926906e+01, -4.88849352e-01],\n",
       "       ...,\n",
       "       [-1.22448102e+04, -3.12998707e+03,  6.58169209e+02,\n",
       "        -1.26516276e+01,  2.44152379e+00,  2.85198061e-02],\n",
       "       [-1.22448102e+04, -3.12998707e+03,  6.58169209e+02,\n",
       "        -1.26516276e+01,  2.44152379e+00,  2.85198061e-02],\n",
       "       [-1.22448102e+04, -3.12998707e+03,  6.58169209e+02,\n",
       "        -1.26516276e+01,  2.44152379e+00,  2.85198061e-02]])"
      ]
     },
     "execution_count": 44,
     "metadata": {},
     "output_type": "execute_result"
    }
   ],
   "source": [
    "pca.transform(copy_data)"
   ]
  },
  {
   "cell_type": "code",
   "execution_count": 45,
   "metadata": {},
   "outputs": [],
   "source": [
    "scores_pca = pca.transform(copy_data)"
   ]
  },
  {
   "cell_type": "markdown",
   "metadata": {},
   "source": [
    "#### K-Mean clustering with PCA"
   ]
  },
  {
   "cell_type": "code",
   "execution_count": 46,
   "metadata": {},
   "outputs": [],
   "source": [
    "from sklearn.cluster import KMeans"
   ]
  },
  {
   "cell_type": "code",
   "execution_count": 47,
   "metadata": {},
   "outputs": [],
   "source": [
    "wcss = []\n",
    "for i in range(1, 21):\n",
    "    pca_kmean = KMeans(n_clusters = i, init = 'k-means++', random_state = 10)\n",
    "    pca_kmean.fit(scores_pca)\n",
    "    wcss.append(pca_kmean.inertia_)"
   ]
  },
  {
   "cell_type": "code",
   "execution_count": 55,
   "metadata": {},
   "outputs": [
    {
     "data": {
      "image/png": "[encoded data removed]",
      "text/plain": [
       "<Figure size 1080x720 with 1 Axes>"
      ]
     },
     "metadata": {
      "needs_background": "light"
     },
     "output_type": "display_data"
    }
   ],
   "source": [
    "plt.figure(figsize = (15, 10))\n",
    "plt.plot(range(1, 21), wcss, marker = 'o', linestyle = '--')\n",
    "plt.xlabel('Num of Clusters')\n",
    "plt.ylabel('WCSS')\n",
    "plt.show()"
   ]
  },
  {
   "cell_type": "code",
   "execution_count": 56,
   "metadata": {},
   "outputs": [],
   "source": [
    "pca_kmeans = KMeans(n_clusters = 3, init = 'k-mean++', random_state = 50)"
   ]
  },
  {
   "cell_type": "code",
   "execution_count": 57,
   "metadata": {},
   "outputs": [
    {
     "ename": "ValueError",
     "evalue": "init should be either 'k-means++', 'random', a ndarray or a callable, got 'k-mean++' instead.",
     "output_type": "error",
     "traceback": [
      "\u001b[0;31m---------------------------------------------------------------------------\u001b[0m",
      "\u001b[0;31mValueError\u001b[0m                                Traceback (most recent call last)",
      "\u001b[0;32m<ipython-input-57-ba0bc08ac7df>\u001b[0m in \u001b[0;36m<module>\u001b[0;34m\u001b[0m\n\u001b[0;32m----> 1\u001b[0;31m \u001b[0mpca_kmeans\u001b[0m\u001b[0;34m.\u001b[0m\u001b[0mfit\u001b[0m\u001b[0;34m(\u001b[0m\u001b[0mscores_pca\u001b[0m\u001b[0;34m)\u001b[0m\u001b[0;34m\u001b[0m\u001b[0;34m\u001b[0m\u001b[0m\n\u001b[0m",
      "\u001b[0;32m/Library/Frameworks/Python.framework/Versions/3.8/lib/python3.8/site-packages/sklearn/cluster/_kmeans.py\u001b[0m in \u001b[0;36mfit\u001b[0;34m(self, X, y, sample_weight)\u001b[0m\n\u001b[1;32m   1144\u001b[0m         )\n\u001b[1;32m   1145\u001b[0m \u001b[0;34m\u001b[0m\u001b[0m\n\u001b[0;32m-> 1146\u001b[0;31m         \u001b[0mself\u001b[0m\u001b[0;34m.\u001b[0m\u001b[0m_check_params\u001b[0m\u001b[0;34m(\u001b[0m\u001b[0mX\u001b[0m\u001b[0;34m)\u001b[0m\u001b[0;34m\u001b[0m\u001b[0;34m\u001b[0m\u001b[0m\n\u001b[0m\u001b[1;32m   1147\u001b[0m         \u001b[0mrandom_state\u001b[0m \u001b[0;34m=\u001b[0m \u001b[0mcheck_random_state\u001b[0m\u001b[0;34m(\u001b[0m\u001b[0mself\u001b[0m\u001b[0;34m.\u001b[0m\u001b[0mrandom_state\u001b[0m\u001b[0;34m)\u001b[0m\u001b[0;34m\u001b[0m\u001b[0;34m\u001b[0m\u001b[0m\n\u001b[1;32m   1148\u001b[0m         \u001b[0msample_weight\u001b[0m \u001b[0;34m=\u001b[0m \u001b[0m_check_sample_weight\u001b[0m\u001b[0;34m(\u001b[0m\u001b[0msample_weight\u001b[0m\u001b[0;34m,\u001b[0m \u001b[0mX\u001b[0m\u001b[0;34m,\u001b[0m \u001b[0mdtype\u001b[0m\u001b[0;34m=\u001b[0m\u001b[0mX\u001b[0m\u001b[0;34m.\u001b[0m\u001b[0mdtype\u001b[0m\u001b[0;34m)\u001b[0m\u001b[0;34m\u001b[0m\u001b[0;34m\u001b[0m\u001b[0m\n",
      "\u001b[0;32m/Library/Frameworks/Python.framework/Versions/3.8/lib/python3.8/site-packages/sklearn/cluster/_kmeans.py\u001b[0m in \u001b[0;36m_check_params\u001b[0;34m(self, X)\u001b[0m\n\u001b[1;32m    976\u001b[0m             \u001b[0;32mor\u001b[0m \u001b[0;34m(\u001b[0m\u001b[0misinstance\u001b[0m\u001b[0;34m(\u001b[0m\u001b[0mself\u001b[0m\u001b[0;34m.\u001b[0m\u001b[0minit\u001b[0m\u001b[0;34m,\u001b[0m \u001b[0mstr\u001b[0m\u001b[0;34m)\u001b[0m \u001b[0;32mand\u001b[0m \u001b[0mself\u001b[0m\u001b[0;34m.\u001b[0m\u001b[0minit\u001b[0m \u001b[0;32min\u001b[0m \u001b[0;34m[\u001b[0m\u001b[0;34m\"k-means++\"\u001b[0m\u001b[0;34m,\u001b[0m \u001b[0;34m\"random\"\u001b[0m\u001b[0;34m]\u001b[0m\u001b[0;34m)\u001b[0m\u001b[0;34m\u001b[0m\u001b[0;34m\u001b[0m\u001b[0m\n\u001b[1;32m    977\u001b[0m         ):\n\u001b[0;32m--> 978\u001b[0;31m             raise ValueError(\n\u001b[0m\u001b[1;32m    979\u001b[0m                 \u001b[0;34m\"init should be either 'k-means++', 'random', a ndarray or a \"\u001b[0m\u001b[0;34m\u001b[0m\u001b[0;34m\u001b[0m\u001b[0m\n\u001b[1;32m    980\u001b[0m                 \u001b[0;34mf\"callable, got '{self.init}' instead.\"\u001b[0m\u001b[0;34m\u001b[0m\u001b[0;34m\u001b[0m\u001b[0m\n",
      "\u001b[0;31mValueError\u001b[0m: init should be either 'k-means++', 'random', a ndarray or a callable, got 'k-mean++' instead."
     ]
    }
   ],
   "source": [
    "pca_kmeans.fit(scores_pca)"
   ]
  },
  {
   "cell_type": "code",
   "execution_count": 58,
   "metadata": {},
   "outputs": [
    {
     "data": {
      "text/html": [
       "<div>\n",
       "<style scoped>\n",
       "    .dataframe tbody tr th:only-of-type {\n",
       "        vertical-align: middle;\n",
       "    }\n",
       "\n",
       "    .dataframe tbody tr th {\n",
       "        vertical-align: top;\n",
       "    }\n",
       "\n",
       "    .dataframe thead th {\n",
       "        text-align: right;\n",
       "    }\n",
       "</style>\n",
       "<table border=\"1\" class=\"dataframe\">\n",
       "  <thead>\n",
       "    <tr style=\"text-align: right;\">\n",
       "      <th></th>\n",
       "      <th>episodes</th>\n",
       "      <th>popularity</th>\n",
       "      <th>rank</th>\n",
       "      <th>score</th>\n",
       "      <th>scored_by</th>\n",
       "      <th>premiered_year</th>\n",
       "      <th>0</th>\n",
       "      <th>1</th>\n",
       "      <th>2</th>\n",
       "      <th>3</th>\n",
       "      <th>4</th>\n",
       "      <th>5</th>\n",
       "    </tr>\n",
       "  </thead>\n",
       "  <tbody>\n",
       "    <tr>\n",
       "      <th>0</th>\n",
       "      <td>26</td>\n",
       "      <td>38</td>\n",
       "      <td>27.0</td>\n",
       "      <td>8.79</td>\n",
       "      <td>544987</td>\n",
       "      <td>1998</td>\n",
       "      <td>511544.369229</td>\n",
       "      <td>2922.915125</td>\n",
       "      <td>-1282.16085</td>\n",
       "      <td>-5.430232</td>\n",
       "      <td>-14.392691</td>\n",
       "      <td>-0.488849</td>\n",
       "    </tr>\n",
       "    <tr>\n",
       "      <th>1</th>\n",
       "      <td>26</td>\n",
       "      <td>38</td>\n",
       "      <td>27.0</td>\n",
       "      <td>8.79</td>\n",
       "      <td>544987</td>\n",
       "      <td>1998</td>\n",
       "      <td>511544.369229</td>\n",
       "      <td>2922.915125</td>\n",
       "      <td>-1282.16085</td>\n",
       "      <td>-5.430232</td>\n",
       "      <td>-14.392691</td>\n",
       "      <td>-0.488849</td>\n",
       "    </tr>\n",
       "    <tr>\n",
       "      <th>2</th>\n",
       "      <td>26</td>\n",
       "      <td>38</td>\n",
       "      <td>27.0</td>\n",
       "      <td>8.79</td>\n",
       "      <td>544987</td>\n",
       "      <td>1998</td>\n",
       "      <td>511544.369229</td>\n",
       "      <td>2922.915125</td>\n",
       "      <td>-1282.16085</td>\n",
       "      <td>-5.430232</td>\n",
       "      <td>-14.392691</td>\n",
       "      <td>-0.488849</td>\n",
       "    </tr>\n",
       "  </tbody>\n",
       "</table>\n",
       "</div>"
      ],
      "text/plain": [
       "   episodes  popularity  rank  score  scored_by premiered_year              0  \\\n",
       "0        26          38  27.0   8.79     544987           1998  511544.369229   \n",
       "1        26          38  27.0   8.79     544987           1998  511544.369229   \n",
       "2        26          38  27.0   8.79     544987           1998  511544.369229   \n",
       "\n",
       "             1           2         3          4         5  \n",
       "0  2922.915125 -1282.16085 -5.430232 -14.392691 -0.488849  \n",
       "1  2922.915125 -1282.16085 -5.430232 -14.392691 -0.488849  \n",
       "2  2922.915125 -1282.16085 -5.430232 -14.392691 -0.488849  "
      ]
     },
     "execution_count": 58,
     "metadata": {},
     "output_type": "execute_result"
    }
   ],
   "source": [
    "data_kmeans = pd.concat([copy_data.reset_index(drop = True), pd.DataFrame(scores_pca)], axis = 1)\n",
    "data_kmeans.head(3)"
   ]
  },
  {
   "cell_type": "markdown",
   "metadata": {},
   "source": [
    "## Matrix Factorization - Singular Value Decomposition (SVD)"
   ]
  },
  {
   "cell_type": "markdown",
   "metadata": {},
   "source": [
    "Followed this tutorial https://towardsdatascience.com/how-did-we-build-book-recommender-systems-in-an-hour-part-2-k-nearest-neighbors-and-matrix-c04b3c2ef55c#:~:text=kNN%20is%20a%20machine%20learning,of%20top%2Dk%20nearest%20neighbors "
   ]
  },
  {
   "cell_type": "code",
   "execution_count": null,
   "metadata": {},
   "outputs": [],
   "source": [
    "# Imports and process needed datasets\n",
    "import pandas as pd\n",
    "import numpy as np\n",
    "from scipy.sparse import csr_matrix\n",
    "import sklearn\n",
    "from sklearn.decomposition import TruncatedSVD\n",
    "\n",
    "user_rating_data = './datasets/user_score_data.csv'\n",
    "df = pd.read_csv(user_rating_data)\n",
    "user_rating_df = df[['user_id', 'mal_id', 'rating']].copy()\n",
    "\n",
    "anime_info_data = './datasets/anime_data.csv'\n",
    "anime_df = pd.read_csv(anime_info_data)\n",
    "columns = ['aired_from', 'aired_to', 'duration', 'episodes', 'genres', 'popularity', 'premiered', 'rank', 'rating', 'score', 'scored_by', 'source', 'status', 'studios', 'synopsis', 'title', 'type']\n",
    "anime_df = anime_df.drop(columns, axis=1)\n",
    "anime_df = anime_df.dropna()"
   ]
  },
  {
   "cell_type": "markdown",
   "metadata": {},
   "source": [
    "### Combine datasets and group by title to get total rating count for each show"
   ]
  },
  {
   "cell_type": "code",
   "execution_count": null,
   "metadata": {},
   "outputs": [],
   "source": [
    "combine_user_anime = pd.merge(user_rating_df, anime_df, on='mal_id')\n",
    "total_ratings = (combine_user_anime.\n",
    "                    groupby(by = ['title_english'])['rating'].\n",
    "                count().\n",
    "                reset_index().\n",
    "                rename(columns = {'rating' : 'totalRatingCount'})\n",
    "                [['title_english', 'totalRatingCount']]\n",
    "                )\n",
    "total_ratings.head()"
   ]
  },
  {
   "cell_type": "markdown",
   "metadata": {},
   "source": [
    "### Narrow the dataset down to anime that have been rated a certain number of times (based on the rating stats)"
   ]
  },
  {
   "cell_type": "code",
   "execution_count": null,
   "metadata": {},
   "outputs": [],
   "source": [
    "userRatings_with_totalRatings = combine_user_anime.merge(total_ratings, left_on='title_english', right_on='title_english')\n",
    "userRatings_with_totalRatings.head(40)\n",
    "\n",
    "popularity_threshold = 100 # this can be changed to narrow the scope of our data\n",
    "ratings_top_anime = userRatings_with_totalRatings.query('totalRatingCount >= @popularity_threshold')\n",
    "n = len(pd.unique(ratings_top_anime['title_english']))\n",
    "print(\"Number of unique anime to be used: \", n)"
   ]
  },
  {
   "cell_type": "markdown",
   "metadata": {},
   "source": [
    "### Convert to 2D Matrix and transpose"
   ]
  },
  {
   "cell_type": "code",
   "execution_count": null,
   "metadata": {},
   "outputs": [],
   "source": [
    "ratings_top_anime_pivot = ratings_top_anime.pivot_table(index = 'user_id', columns='title_english', values='rating', aggfunc=np.sum).fillna(0)\n",
    "transposed_ratings = ratings_top_anime_pivot.values.T\n",
    "ratings_top_anime_pivot.head()"
   ]
  },
  {
   "cell_type": "markdown",
   "metadata": {},
   "source": [
    "### Run SVD and calculate Pearson R Correlation Coefficient, (need to figure out num of latent variables for later)"
   ]
  },
  {
   "cell_type": "code",
   "execution_count": null,
   "metadata": {},
   "outputs": [],
   "source": [
    "import warnings\n",
    "warnings.filterwarnings(\"ignore\", category = RuntimeWarning)\n",
    "\n",
    "# SVD\n",
    "SVD = TruncatedSVD(n_components=12, random_state=17)\n",
    "matrix = SVD.fit_transform(transposed_ratings)\n",
    "\n",
    "# Correlation Coefficient\n",
    "corr = np.corrcoef(matrix)\n",
    "corr.shape"
   ]
  },
  {
   "cell_type": "markdown",
   "metadata": {},
   "source": [
    "### Recommendations based on SVD - Random Choice"
   ]
  },
  {
   "cell_type": "code",
   "execution_count": null,
   "metadata": {},
   "outputs": [],
   "source": [
    "anime_titles = ratings_top_anime_pivot.columns\n",
    "anime_titles_list = list(anime_titles)\n",
    "\n",
    "# Pick random anime\n",
    "title_chosen = np.random.choice(anime_titles_list)\n",
    "print('Recommendations for: ', title_chosen)  \n",
    "\n",
    "# Get its index and correlation coefficient\n",
    "title_index = anime_titles_list.index(title_chosen)\n",
    "corr_title = corr[title_index]\n",
    "\n",
    "# List the correlated titles with the random title chosen   \n",
    "list(anime_titles[(corr_title<1.0) & (corr_title>0.9)])"
   ]
  },
  {
   "cell_type": "markdown",
   "metadata": {},
   "source": [
    "### Recommendations based on SVD - Input Title"
   ]
  },
  {
   "cell_type": "code",
   "execution_count": null,
   "metadata": {},
   "outputs": [],
   "source": [
    "# Type in title\n",
    "title_chosen = \"Snow White with the Red Hair\"\n",
    "print('Recommendations for: ', title_chosen, '\\n')  \n",
    "\n",
    "# Get its index and correlation coefficient\n",
    "title_index = anime_titles_list.index(title_chosen)\n",
    "corr_title = corr[title_index]\n",
    "\n",
    "# List the correlated titles with the random title chosen   \n",
    "list(anime_titles[(corr_title<1.0) & (corr_title>0.9)])"
   ]
  },
  {
   "cell_type": "markdown",
   "metadata": {},
   "source": [
    "**FAY'S TO DO: figure out the right latent variable number, see if we can rank the recommendations list and keep it to 10 recs, see if I can check for accuracy and comparisons for analysis**"
   ]
  }
 ],
 "metadata": {
  "kernelspec": {
   "display_name": "Python 3",
   "language": "python",
   "name": "python3"
  },
  "language_info": {
   "codemirror_mode": {
    "name": "ipython",
    "version": 3
   },
   "file_extension": ".py",
   "mimetype": "text/x-python",
   "name": "python",
   "nbconvert_exporter": "python",
   "pygments_lexer": "ipython3",
   "version": "3.8.5"
  }
 },
 "nbformat": 4,
 "nbformat_minor": 4
}
